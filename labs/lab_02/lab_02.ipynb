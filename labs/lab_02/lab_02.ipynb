{
 "cells": [
  {
   "cell_type": "markdown",
   "id": "dc7580e7",
   "metadata": {},
   "source": [
    "<a href=\"https://colab.research.google.com/github/fralfaro/MAT281_2022/blob/main/labs/lab_02/lab_02.ipynb\n",
    "\" target=\"_parent\"><img src=\"https://colab.research.google.com/assets/colab-badge.svg\" alt=\"Open In Colab\"/></a>\n",
    "\n",
    "\n",
    "# MAT281 - Laboratorio N°02\n"
   ]
  },
  {
   "cell_type": "markdown",
   "id": "3317cc63",
   "metadata": {},
   "source": [
    "## Problema 01\n",
    "\n",
    "El objetivo de este laboratorio es aplicar un modelo de regresión lineal simple. \n",
    "\n",
    "### Definición \n",
    "El **modelo de regresión lineal general** o **modelo de regresión multiple**,  supone que, \n",
    "$\\boldsymbol{Y} =  \\boldsymbol{X}\\boldsymbol{\\beta} + \\boldsymbol{\\epsilon},$ donde:\n",
    "\n",
    "* $\\boldsymbol{X} = (x_1,...,x_n)^{T}$: variable explicativa\n",
    "* $\\boldsymbol{Y} = (y_1,...,y_n)^{T}$: variable respuesta\n",
    "* $\\boldsymbol{\\epsilon} = (\\epsilon_1,...,\\epsilon_n)^{T}$: error se asume un ruido blanco, es decir, $\\epsilon \\sim \\mathcal{N}( \\boldsymbol{0},\\sigma^2I)$\n",
    "* $\\boldsymbol{\\beta} = (\\beta_1,...,\\beta_n)^{T}$: coeficientes de regresión.\n",
    "\n",
    "\n",
    "La idea es tratar de establecer la relación entre las variables independientes y dependientes por medio de ajustar el mejor hyper plano con respecto a los puntos. \n",
    "\n",
    "Por ejemplo, para el caso de la **regresión lineal simple**, se tiene la siguiente estructura: $y_i=\\beta_0+\\beta_1x_i+\\epsilon_i.$ En este caso, la regresión lineal corresponderá a la recta que mejor pasa por los puntos observados.\n",
    "\n",
    "<img src=\"https://raw.githubusercontent.com/fralfaro/MAT281_2022/main/docs/lectures/ml/analisis_supervisado_regresion/images/lr.webp\" width=\"560\" height=\"480\" align=\"center\"/>\n",
    "\n",
    "Existen algunas situaciones donde los modelos lineales no son apropiados:\n",
    "\n",
    "* El rango de valores de $Y$ está restringido (ejemplo: datos binarios o de conteos).\n",
    "* La varianza de $Y$ depende de la media."
   ]
  },
  {
   "cell_type": "markdown",
   "id": "df42e80b",
   "metadata": {},
   "source": [
    "### Mejores parémetros: Método de minimos cudrados\n",
    "\n",
    "El **método de mínimos cudrados** es un método de optimización que busca encontrar la mejor aproximación mediante la minimización de los residuos al cuadrado, es decir, se buscar encontrar:\n",
    "\n",
    "$$(P)\\ \\min \\sum_{i=1}^n e_{i}^2 =\\sum_{i=1}^n (y_{i}-f_{i}(x;\\beta))^2   $$\n",
    "\n",
    "Para el caso de la regresión lineal simple, se busca una función $$f(x;\\beta) = \\beta_{0} + \\beta_{1}x,$$\n",
    "\n",
    "por lo tanto el problema que se debe resolver es el siguiente:\n",
    "\n",
    "$$(P)\\ \\min \\sum_{i=1}^n e_{i}^2 =\\dfrac{1}{n}\\sum_{i=1}^{n}\\left ( y_{i}-(\\beta_{0} + \\beta_{1}x_{i})\\right )^2$$ \n",
    "\n",
    "Lo que significa, que para este problema, se debe encontrar $\\beta = (\\beta_{0},\\beta_{1})$ que minimicen el problema de optimización. En este caso la solución viene dada por:\n",
    "\n",
    "$$\\hat{\\beta}_{1} = \\dfrac{\\sum(x-\\bar{x})(y-\\bar{y})}{\\sum(x-\\bar{x})^2} = \\rho (x,y)\\ ; \\  \\hat{\\beta}_{0} = \\bar{y}-\\hat{\\beta}_{1} \\bar{x} $$"
   ]
  },
  {
   "cell_type": "markdown",
   "id": "4592fe89",
   "metadata": {},
   "source": [
    "### Selección de modelos\n",
    "\n",
    "**R-cuadrado**  \n",
    "\n",
    "\n",
    "\n",
    "El [coeficiente de determinación](https://en.wikipedia.org/wiki/Coefficient_of_determination) o **R-cuadrado** ($r^2$ ) , es un estadístico usado en el contexto de un modelo estadístico cuyo principal propósito es predecir futuros resultados o probar una hipótesis. El coeficiente determina la calidad del modelo para replicar los resultados, y la proporción de variación de los resultados que puede explicarse por el modelo.\n",
    "\n",
    "El valor del $r^2$ habitualmente entre 0 y 1, donde 0 significa una mala calidad de ajuste en el modelo y 1 corresponde a un ajuste lineal perfecto. A menudo, este estadístico es ocupado para modelos lineales.  \n",
    "\n",
    "Se define por la fórmula:\n",
    "\n",
    "\n",
    "$$r^2 = \\dfrac{SS_{reg}}{SS_{tot}} = 1 - \\dfrac{SS_{res}}{SS_{tot}},$$\n",
    "\n",
    "donde:\n",
    "\n",
    "* **$SS_{reg}$** ( suma explicada de cuadrados (ESS)): $\\sum_{i}(\\hat{y}-\\bar{y})^2$\n",
    "\n",
    "\n",
    "* **$SS_{res}$**: ( suma residual de cuadrados (RSS)): $\\sum_{i}(y_{i}-\\hat{y})^2 = \\sum_{i}e_{i}^2$\n",
    "\n",
    "\n",
    "* **$SS_{tot}$**: ( varianza): $\\sum_{i}(y_{i}-\\bar{y})$, donde: $SS_{tot}=SS_{reg}+SS_{res}$\n",
    "\n",
    "\n",
    "En una forma general, se puede ver que $r^2$ está relacionado con la fracción de varianza inexplicada (FVU), ya que el segundo término compara la varianza inexplicada (varianza de los errores del modelo) con la varianza total (de los datos).\n",
    "\n",
    "\n",
    "\n",
    "<img src=\"https://raw.githubusercontent.com/fralfaro/MAT281_2022/main/docs/lectures/ml/analisis_supervisado_regresion/images/r2.png\" width=\"480\" height=\"360\" align=\"rigt\"/>\n",
    "\n",
    "\n",
    "* Las áreas de los cuadrados azules representan los residuos cuadrados con respecto a la regresión lineal ($SS_{tot}$). \n",
    "\n",
    "* Las áreas de los cuadrados rojos representan los residuos al cuadrado con respecto al valor promedio ($SS_{res}$).\n",
    "\n"
   ]
  },
  {
   "cell_type": "markdown",
   "id": "79e4cbda",
   "metadata": {},
   "source": [
    "## Error de un modelo\n",
    "\n",
    "### Definición\n",
    "\n",
    "El **error** corresponde a la diferencia entre el valor original y el valor predicho,es decir:\n",
    "\n",
    "$$e_{i}=y_{i}-\\hat{y}_{i} $$\n",
    "\n",
    "\n",
    "<img src=\"https://raw.githubusercontent.com/fralfaro/MAT281_2022/main/docs/lectures/ml/analisis_supervisado_regresion/images/error.png\" width=\"480\" height=\"360\" align=\"rigt\"/>\n",
    "\n",
    "\n",
    "### Formas de medir el error de un modelo\n",
    "\n",
    "Para medir el ajuste de un modelo se ocupan las denominadas **funciones de distancias** o **métricas**. Existen varias métricas, dentro de las cuales encontramos:\n",
    "\n",
    "\n",
    "\n",
    "\n",
    "1. **Métricas absolutas**: Las métricas absolutas o no escalada miden el error sin escalar los valores. Las métrica absolutas más ocupadas son:\n",
    "\n",
    "    *  **Mean Absolute Error** (MAE)\n",
    "\n",
    "    $$\\textrm{MAE}(y,\\hat{y}) = \\dfrac{1}{n}\\sum_{t=1}^{n}\\left | y_{t}-\\hat{y}_{t}\\right |$$\n",
    "\n",
    "    *  **Mean squared error** (MSE):\n",
    "\n",
    "    $$\\textrm{MSE}(y,\\hat{y}) =\\dfrac{1}{n}\\sum_{t=1}^{n}\\left ( y_{t}-\\hat{y}_{t}\\right )^2$$\n",
    "\n",
    "\n",
    "\n",
    "\n",
    "\n",
    "2. **Métricas Porcentuales**: Las métricas porcentuales o escaladas miden el error de manera escalada, es decir, se busca acotar el error entre valores de 0 a 1, donde 0 significa que el ajuste es perfecto, mientras que 1 sería un mal ajuste. Cabe destacar que muchas veces las métricas porcentuales puden tener valores mayores a 1.Las métrica Porcentuales más ocupadas son:\n",
    "\n",
    "    * **Mean absolute percentage error** (MAPE):\n",
    "    \n",
    "    $$\\textrm{MAPE}(y,\\hat{y}) = \\dfrac{1}{n}\\sum_{t=1}^{n}\\left | \\frac{y_{t}-\\hat{y}_{t}}{y_{t}} \\right |$$\n",
    "\n",
    "    * **Symmetric mean absolute percentage error** (sMAPE):\n",
    "    \n",
    "    $$\\textrm{sMAPE}(y,\\hat{y}) = \\dfrac{1}{n}\\sum_{t=1}^{n} \\frac{\\left |y_{t}-\\hat{y}_{t}\\right |}{(\\left | y_{t} \\right |^2+\\left | \\hat{y}_{t} \\right |^2)/2}$$"
   ]
  },
  {
   "cell_type": "markdown",
   "id": "50c111fd",
   "metadata": {},
   "source": [
    "## Problema a resolver\n",
    "\n",
    "En este artículo, utilizaremos un conjunto de datos de **salarios**. Nuestro conjunto de datos tendrá 2 columnas:\n",
    "\n",
    "* años de experiencia (YearsExperience) - variable explicativa\n",
    "* salario (Salary) - variable de respuesta\n",
    "\n",
    "A coninuación, mostramos explícitamente el conjunto de datos."
   ]
  },
  {
   "cell_type": "code",
   "execution_count": 1,
   "id": "f2a0a502",
   "metadata": {},
   "outputs": [],
   "source": [
    "import numpy as np\n",
    "import matplotlib.pyplot as plt\n",
    "from IPython.display import display, Latex\n",
    "\n",
    "YearsExperience = np.array([\n",
    " 1.1,1.3,1.5,2.0,2.2,\n",
    " 2.9,3.0,3.2,3.2,3.7,\n",
    " 3.9,4.0,4.0,4.1,4.5,\n",
    " 4.9,5.1,5.3,5.9,6.0,\n",
    " 6.8,7.1,7.9,8.2,8.7,\n",
    " 9.0,9.5,9.6,10.3,10.5\n",
    " ])\n",
    "\n",
    "Salary =  np.array([\n",
    " 39343.0,46205.0,37731.0,43525.0,39891.0,\n",
    " 56642.0,60150.0,54445.0,64445.0,57189.0,\n",
    " 63218.0,55794.0,56957.0,57081.0,61111.0,\n",
    " 67938.0,66029.0,83088.0,81363.0,93940.0,\n",
    " 91738.0,98273.0,101302.0,113812.0,109431.0,\n",
    " 105582.0,116969.0,112635.0,122391.0,121872.0\n",
    "])\n"
   ]
  },
  {
   "cell_type": "markdown",
   "id": "beae304d",
   "metadata": {},
   "source": [
    "Buscamos encontrar la regresión lineal simple:\n",
    "\n",
    "$$Salary_i=\\beta_0+\\beta_1YearsExperience_i+\\epsilon_i$$\n",
    "\n",
    "Para esto debe resolver las siguientes preguntas:"
   ]
  },
  {
   "cell_type": "markdown",
   "id": "383a90c2",
   "metadata": {},
   "source": [
    "1. Defina la función `estimate_coef(x,y)` para encontrar los coeficientes de regresión lineal $b = (b_0,b_1)$."
   ]
  },
  {
   "cell_type": "code",
   "execution_count": 2,
   "id": "5502b4c2",
   "metadata": {},
   "outputs": [],
   "source": [
    "def estimate_coef(x, y):\n",
    "    \"\"\"\n",
    "    Encontrar los coeficientes del modelo de \n",
    "    regresion lineal: beta = (beta_0,beta_1)\n",
    "    \"\"\"\n",
    "    beta_0 = 0\n",
    "    beta_1 = 0\n",
    "    \n",
    "    return (beta_0, beta_1)"
   ]
  },
  {
   "cell_type": "code",
   "execution_count": 3,
   "id": "99b1b867",
   "metadata": {},
   "outputs": [
    {
     "name": "stdout",
     "output_type": "stream",
     "text": [
      "Coeficientes estimados:\n",
      "b_0 = 0 \n",
      "b_1 = 0\n"
     ]
    }
   ],
   "source": [
    "# imprimir valores del beta estimado\n",
    "beta_estimado = estimate_coef(YearsExperience, Salary)\n",
    "print(f\"Coeficientes estimados:\\nb_0 = {beta_estimado[0]} \\nb_1 = {beta_estimado[1]}\")"
   ]
  },
  {
   "cell_type": "markdown",
   "id": "e2bbdd6d",
   "metadata": {},
   "source": [
    "2. Grafique su solución ocupando la función `plot_regression_line(x,y,yhat)`."
   ]
  },
  {
   "cell_type": "code",
   "execution_count": 4,
   "id": "1d204109",
   "metadata": {},
   "outputs": [],
   "source": [
    "def plot_regression_line(x, y, yhat):\n",
    "    plt.figure(figsize=(10,4))\n",
    "    # plotting the actual points as scatter plot\n",
    "    plt.scatter(x, y, color = \"m\",marker = \"o\", s = 30)\n",
    "\n",
    "\n",
    "    # plotting the regression line\n",
    "    plt.plot(x, yhat, color = \"g\")\n",
    "\n",
    "    # putting labels\n",
    "    plt.xlabel('YearsExperience')\n",
    "    plt.ylabel('Salary')\n",
    "    plt.title(\"Plot YearsExperience vs Salary\")\n",
    "    \n",
    "    # function to show plot\n",
    "    plt.show()"
   ]
  },
  {
   "cell_type": "code",
   "execution_count": 5,
   "id": "092fd446",
   "metadata": {},
   "outputs": [
    {
     "data": {
      "image/png": "[encoded data removed]",
      "text/plain": [
       "<Figure size 720x288 with 1 Axes>"
      ]
     },
     "metadata": {
      "needs_background": "light"
     },
     "output_type": "display_data"
    }
   ],
   "source": [
    "# mostrar resultados del ajuste lineal\n",
    "prediccion = beta_estimado[0] + beta_estimado[1]*YearsExperience\n",
    "plot_regression_line(YearsExperience, Salary, prediccion)"
   ]
  },
  {
   "cell_type": "markdown",
   "id": "cd5b168c",
   "metadata": {},
   "source": [
    "3. Calcule el estadístico **r-cuadrado** ($r^2$) y las siguientes métricas de error:\n",
    "    * mae\n",
    "    * rmse\n",
    "    * mape\n",
    "    * smape"
   ]
  },
  {
   "cell_type": "code",
   "execution_count": 6,
   "id": "0c6f88b4",
   "metadata": {},
   "outputs": [],
   "source": [
    "def mae(y, yhat) -> float:\n",
    "    \"\"\"\n",
    "    Calculo de la metrica: mean absolute error (MAE)\n",
    "    \"\"\"\n",
    "    # agregar codigo \n",
    "    metrica = 0\n",
    "    return metrica"
   ]
  },
  {
   "cell_type": "code",
   "execution_count": 7,
   "id": "755ce41b",
   "metadata": {},
   "outputs": [],
   "source": [
    "def mae(y, yhat) -> float:\n",
    "    \"\"\"\n",
    "    Calculo de la metrica: mean absolute error (MAE)\n",
    "    \"\"\"\n",
    "    # agregar codigo \n",
    "    metrica = 0\n",
    "    return metrica"
   ]
  },
  {
   "cell_type": "code",
   "execution_count": 8,
   "id": "8a53b04f",
   "metadata": {},
   "outputs": [],
   "source": [
    "def rmse(y, yhat) -> float:\n",
    "    \"\"\"\n",
    "    Calculo de la metrica: root mean squared error (RMSE)\n",
    "    \"\"\"\n",
    "    # agregar codigo \n",
    "    metrica = 0\n",
    "    return metrica"
   ]
  },
  {
   "cell_type": "code",
   "execution_count": 9,
   "id": "9f024eaa",
   "metadata": {},
   "outputs": [],
   "source": [
    "def mape(y, yhat) -> float:\n",
    "    \"\"\"\n",
    "    Calculo de la metrica: mean absolute percentage error (MAPE)\n",
    "    \"\"\"\n",
    "    # agregar codigo \n",
    "    metrica = 0\n",
    "    return metrica"
   ]
  },
  {
   "cell_type": "code",
   "execution_count": 10,
   "id": "319fa891",
   "metadata": {},
   "outputs": [],
   "source": [
    "def smape(y, yhat) -> float:\n",
    "    \"\"\"\n",
    "    Calculo de la metrica: symmetric mean absolute percentage error (SMAPE)\n",
    "    \"\"\"\n",
    "    # agregar codigo \n",
    "    metrica = 0\n",
    "    return metrica"
   ]
  },
  {
   "cell_type": "code",
   "execution_count": 11,
   "id": "6304a6fc",
   "metadata": {},
   "outputs": [],
   "source": [
    "def rsquared(y, yhat) -> float:\n",
    "    \"\"\"\n",
    "    Calculo del r-cuadrado\n",
    "    \"\"\"\n",
    "    # agregar codigo \n",
    "    metrica = 0\n",
    "    return metrica"
   ]
  },
  {
   "cell_type": "code",
   "execution_count": 12,
   "id": "da2b3700",
   "metadata": {},
   "outputs": [],
   "source": [
    "# calcular resultados\n",
    "calcular_mae = round(mae(Salary,prediccion), 4)\n",
    "calcular_rmse = round(rmse(Salary,prediccion), 4)\n",
    "calcular_mape = round(mape(Salary,prediccion), 4)\n",
    "calcular_smape = round(smape(Salary,prediccion), 4)\n",
    "calcular_rsquared = round(rsquared(Salary,prediccion), 4)"
   ]
  },
  {
   "cell_type": "code",
   "execution_count": 13,
   "id": "3f798b74",
   "metadata": {},
   "outputs": [
    {
     "name": "stdout",
     "output_type": "stream",
     "text": [
      "mae:   0\n",
      "rmse:  0\n",
      "mape:  0\n",
      "smape: 0\n",
      "r^2:   0\n"
     ]
    }
   ],
   "source": [
    "# imprimir resultados\n",
    "print(f\"mae:   {calcular_mae}\")\n",
    "print(f\"rmse:  {calcular_rmse}\")\n",
    "print(f\"mape:  {calcular_mape}\")\n",
    "print(f\"smape: {calcular_smape}\")\n",
    "print(f\"r^2:   {calcular_rsquared}\")"
   ]
  },
  {
   "cell_type": "markdown",
   "id": "e98b553d",
   "metadata": {},
   "source": [
    "4. Conclusiones del caso de estudio (evaluar si la regresión lineal se ajusta correctamente a los datos o no). "
   ]
  },
  {
   "cell_type": "markdown",
   "id": "ac64f6d0",
   "metadata": {},
   "source": [
    "**Respuesta**:"
   ]
  }
 ],
 "metadata": {
  "kernelspec": {
   "display_name": "Python 3",
   "language": "python",
   "name": "python3"
  },
  "language_info": {
   "codemirror_mode": {
    "name": "ipython",
    "version": 3
   },
   "file_extension": ".py",
   "mimetype": "text/x-python",
   "name": "python",
   "nbconvert_exporter": "python",
   "pygments_lexer": "ipython3",
   "version": "3.8.10"
  }
 },
 "nbformat": 4,
 "nbformat_minor": 5
}
