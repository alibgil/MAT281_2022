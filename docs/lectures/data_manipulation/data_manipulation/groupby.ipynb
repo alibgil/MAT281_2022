{
 "cells": [
  {
   "cell_type": "markdown",
   "metadata": {},
   "source": [
    "<a href=\"https://colab.research.google.com/github/fralfaro/MAT281_2022/blob/main/docs/lectures/data_manipulation/data_manipulation/groupby.ipynb\n",
    "\" target=\"_parent\"><img src=\"https://colab.research.google.com/assets/colab-badge.svg\" alt=\"Open In Colab\"/></a>\n",
    "\n",
    "# Groupby"
   ]
  },
  {
   "cell_type": "markdown",
   "metadata": {},
   "source": [
    "\n",
    "**Groupby** es un concepto bastante simple. Podemos crear una agrupación de categorías y aplicar una función a las categorías. \n",
    "\n",
    "El proceso de groupby se puede resumiren los siguientes pasos:\n",
    "\n",
    "* **División**: es un proceso en el que dividimos los datos en grupos aplicando algunas condiciones en los conjuntos de datos.\n",
    "* **Aplicación**: es un proceso en el que aplicamos una función a cada grupo de forma independiente\n",
    "* **Combinación**: es un proceso en el que combinamos diferentes conjuntos de datos después de aplicar groupby y resultados en una estructura de datos"
   ]
  },
  {
   "cell_type": "markdown",
   "metadata": {},
   "source": [
    "<img src=\"https://raw.githubusercontent.com/fralfaro/MAT281_2022/main/docs/lectures/data_manipulation/data_manipulation/images/groupby.jpg\" alt=\"\" align=\"center\" width=\"400px\"/>\n"
   ]
  },
  {
   "cell_type": "markdown",
   "metadata": {},
   "source": [
    "\n",
    "Después de dividir los datos en un grupo, aplicamos una función a cada grupo para realizar algunas operaciones que son:\n",
    "\n",
    "* **Agregación**: es un proceso en el que calculamos una estadística resumida (o estadística) sobre cada grupo. Por ejemplo, Calcular sumas de grupo o medios\n",
    "* **Transformación**: es un proceso en el que realizamos algunos cálculos específicos del grupo y devolvemos un índice similar. Por ejemplo, llenar NA dentro de grupos con un valor derivado de cada grupo\n",
    "* **Filtración**: es un proceso en el cual descartamos algunos grupos, de acuerdo con un cálculo grupal que evalúa Verdadero o Falso. Por ejemplo, Filtrar datos en función de la suma o media grupal"
   ]
  },
  {
   "cell_type": "markdown",
   "metadata": {},
   "source": [
    "## Aplicación"
   ]
  },
  {
   "cell_type": "markdown",
   "metadata": {},
   "source": [
    "Para comprender mejor el concepto de agrupación de tablas, se realiza un ejercicio simple sobre el conjunto de datos **pokemon.csv**\n",
    "\n",
    "<img src=\"https://raw.githubusercontent.com/fralfaro/MAT281_2022/main/docs/lectures/data_manipulation/data_manipulation/images/logo_pokemon.png\" width=\"480\" height=\"240\" align=\"center\"/>\n"
   ]
  },
  {
   "cell_type": "code",
   "execution_count": 1,
   "metadata": {},
   "outputs": [],
   "source": [
    "# libreria\n",
    "import pandas as pd\n",
    "import numpy as np\n",
    "import os"
   ]
  },
  {
   "cell_type": "code",
   "execution_count": 2,
   "metadata": {},
   "outputs": [
    {
     "name": "stdout",
     "output_type": "stream",
     "text": [
      "   #           Name Type 1  Type 2  HP  Attack  Defense  Sp. Atk  Sp. Def  \\\n",
      "0  1      Bulbasaur  Grass  Poison  45      49       49       65       65   \n",
      "1  2        Ivysaur  Grass  Poison  60      62       63       80       80   \n",
      "2  3       Venusaur  Grass  Poison  80      82       83      100      100   \n",
      "3  4  Mega Venusaur  Grass  Poison  80     100      123      122      120   \n",
      "4  5     Charmander   Fire     NaN  39      52       43       60       50   \n",
      "\n",
      "   Speed  Generation  Legendary  \n",
      "0     45           1      False  \n",
      "1     60           1      False  \n",
      "2     80           1      False  \n",
      "3     80           1      False  \n",
      "4     65           1      False  \n"
     ]
    }
   ],
   "source": [
    "# cargar datos\n",
    "pokemon_data = pd.read_csv(\n",
    "    \"https://raw.githubusercontent.com/fralfaro/MAT281_2022/main/docs/lectures/data_manipulation/data_manipulation/data/pokemon.csv\",\n",
    "    sep=\",\"\n",
    ")\n",
    "print(pokemon_data.head())"
   ]
  },
  {
   "cell_type": "code",
   "execution_count": 3,
   "metadata": {},
   "outputs": [
    {
     "name": "stdout",
     "output_type": "stream",
     "text": [
      "   #           name type_1  type_2  hp  attack  defense  sp__atk  sp__def  \\\n",
      "0  1      Bulbasaur  Grass  Poison  45      49       49       65       65   \n",
      "1  2        Ivysaur  Grass  Poison  60      62       63       80       80   \n",
      "2  3       Venusaur  Grass  Poison  80      82       83      100      100   \n",
      "3  4  Mega Venusaur  Grass  Poison  80     100      123      122      120   \n",
      "4  5     Charmander   Fire     NaN  39      52       43       60       50   \n",
      "\n",
      "   speed  generation  legendary  \n",
      "0     45           1      False  \n",
      "1     60           1      False  \n",
      "2     80           1      False  \n",
      "3     80           1      False  \n",
      "4     65           1      False  \n"
     ]
    },
    {
     "name": "stderr",
     "output_type": "stream",
     "text": [
      "/var/folders/6x/_s6yr3bj2vj1vjwm6rsph_xr0000gp/T/ipykernel_2630/1074862386.py:2: FutureWarning: The default value of regex will change from True to False in a future version. In addition, single character regular expressions will *not* be treated as literal strings when regex=True.\n",
      "  pokemon_data.columns = pokemon_data.columns.str.lower().str.replace('.','_').str.replace(' ','_') #change into upper case\n"
     ]
    }
   ],
   "source": [
    "# renombrar columnas\n",
    "pokemon_data.columns = pokemon_data.columns.str.lower().str.replace('.','_').str.replace(' ','_') #change into upper case\n",
    "print(pokemon_data.head())"
   ]
  },
  {
   "cell_type": "markdown",
   "metadata": {},
   "source": [
    "### Número de pokemones por generación"
   ]
  },
  {
   "cell_type": "code",
   "execution_count": 4,
   "metadata": {},
   "outputs": [
    {
     "name": "stdout",
     "output_type": "stream",
     "text": [
      "   generation  name\n",
      "0           1   165\n",
      "1           2   106\n",
      "2           3   160\n",
      "3           4   121\n",
      "4           5   165\n",
      "5           6    82\n"
     ]
    }
   ],
   "source": [
    "grupo = pokemon_data.groupby('generation')  \n",
    "print(grupo[['name']].count().reset_index())"
   ]
  },
  {
   "cell_type": "markdown",
   "metadata": {},
   "source": [
    "### Número de pokemones  por par Tipo I y Tipo II"
   ]
  },
  {
   "cell_type": "code",
   "execution_count": 5,
   "metadata": {},
   "outputs": [
    {
     "name": "stdout",
     "output_type": "stream",
     "text": [
      "    type_1    type_2  name\n",
      "0      Bug  Electric     2\n",
      "1      Bug  Fighting     2\n",
      "2      Bug      Fire     2\n",
      "3      Bug    Flying    14\n",
      "4      Bug     Ghost     1\n",
      "..     ...       ...   ...\n",
      "131  Water       Ice     3\n",
      "132  Water    Poison     3\n",
      "133  Water   Psychic     5\n",
      "134  Water      Rock     4\n",
      "135  Water     Steel     1\n",
      "\n",
      "[136 rows x 3 columns]\n"
     ]
    }
   ],
   "source": [
    "grupo = pokemon_data.groupby(['type_1','type_2']) \n",
    "print(grupo['name'].count().reset_index())"
   ]
  },
  {
   "cell_type": "markdown",
   "metadata": {},
   "source": [
    "### Calcular hp promedio y hp total agrupados si el pokemon es legendario o no"
   ]
  },
  {
   "cell_type": "markdown",
   "metadata": {},
   "source": [
    "#### método 01: ocupando el comando agg"
   ]
  },
  {
   "cell_type": "code",
   "execution_count": 6,
   "metadata": {},
   "outputs": [
    {
     "name": "stdout",
     "output_type": "stream",
     "text": [
      "  legendary         hp       \n",
      "                  mean    sum\n",
      "0     False  67.182313  49379\n",
      "1      True  92.738462   6028\n"
     ]
    }
   ],
   "source": [
    "# metodo 01: ocupando el comando agg\n",
    "grupo = pokemon_data.groupby(['legendary'])\n",
    "df_leng = grupo.agg({'hp':[np.mean,sum]}).reset_index()\n",
    "print(df_leng) "
   ]
  },
  {
   "cell_type": "markdown",
   "metadata": {},
   "source": [
    "#### método 02: ocupando el comando apply"
   ]
  },
  {
   "cell_type": "code",
   "execution_count": 7,
   "metadata": {},
   "outputs": [],
   "source": [
    "# metodo 02: ocupando el comando apply\n",
    "def my_custom_function(x):\n",
    "        \"\"\"\n",
    "        Funcion que calcula el hp promedio y total\n",
    "        \"\"\"\n",
    "        names = {\n",
    "        'mean': x['hp'].mean(),\n",
    "        'sum':x['hp'].sum()}\n",
    "        \n",
    "        return pd.Series(names, index=['mean', 'sum'])"
   ]
  },
  {
   "cell_type": "code",
   "execution_count": 8,
   "metadata": {},
   "outputs": [
    {
     "name": "stdout",
     "output_type": "stream",
     "text": [
      "   legendary       mean      sum\n",
      "0      False  67.182313  49379.0\n",
      "1       True  92.738462   6028.0\n"
     ]
    }
   ],
   "source": [
    "grupo = pokemon_data.groupby(['legendary'])\n",
    "df_leng = grupo.apply(my_custom_function).reset_index()\n",
    "print(df_leng)"
   ]
  },
  {
   "cell_type": "markdown",
   "metadata": {},
   "source": [
    "### Normalizar las estadísticas agrupados por generación "
   ]
  },
  {
   "cell_type": "code",
   "execution_count": 9,
   "metadata": {},
   "outputs": [
    {
     "name": "stdout",
     "output_type": "stream",
     "text": [
      "           hp    attack   defense   sp__atk   sp__def     speed\n",
      "0   -0.739479 -0.898969 -0.763283 -0.198010 -0.160373 -0.929521\n",
      "1   -0.206695 -0.476132 -0.274479  0.237542  0.427740 -0.424060\n",
      "2    0.503685  0.174386  0.423812  0.818277  1.211892  0.249889\n",
      "3    0.503685  0.759852  1.820395  1.457086  1.996043  0.249889\n",
      "4   -0.952593 -0.801391 -0.972770 -0.343193 -0.748487 -0.255573\n",
      "..        ...       ...       ...       ...       ...       ...\n",
      "795 -0.873754  0.829182  2.337149  0.808641  2.496477 -0.639851\n",
      "796 -0.873754  2.885421  1.062058  2.695980  1.166968  1.695510\n",
      "797  0.561116  1.171889 -0.531806  2.381423  1.831723  0.138603\n",
      "798  0.561116  2.885421 -0.531806  3.010536  1.831723  0.527830\n",
      "799  0.561116  1.171889  1.380831  1.752310  0.502214  0.138603\n",
      "\n",
      "[800 rows x 6 columns]\n"
     ]
    }
   ],
   "source": [
    "cols_statistics = [\n",
    "    'generation', 'hp', \n",
    "    'attack', 'defense',\n",
    "    'sp__atk','sp__def', \n",
    "    'speed'\n",
    "]\n",
    "\n",
    "grupo = pokemon_data[cols_statistics].groupby('generation') \n",
    "sc = lambda x: (x - x.mean()) / x.std()\n",
    "print(grupo.transform(sc))"
   ]
  },
  {
   "cell_type": "markdown",
   "metadata": {},
   "source": [
    "### Identificar generaciones  que tienen menos de 100 pokemones"
   ]
  },
  {
   "cell_type": "code",
   "execution_count": 10,
   "metadata": {},
   "outputs": [
    {
     "name": "stdout",
     "output_type": "stream",
     "text": [
      "               name  generation\n",
      "166       Chikorita           2\n",
      "167         Bayleef           2\n",
      "168        Meganium           2\n",
      "169       Cyndaquil           2\n",
      "170         Quilava           2\n",
      "..              ...         ...\n",
      "795         Diancie           6\n",
      "796    Mega Diancie           6\n",
      "797  Hoopa Confined           6\n",
      "798   Hoopa Unbound           6\n",
      "799       Volcanion           6\n",
      "\n",
      "[309 rows x 2 columns]\n"
     ]
    }
   ],
   "source": [
    "grupo = pokemon_data[['name','generation']].groupby('generation')  \n",
    "print(grupo.filter(lambda x: len(x['name']) < 150) )"
   ]
  },
  {
   "cell_type": "markdown",
   "metadata": {},
   "source": [
    "## Referencia\n",
    "\n",
    "1. [Groupby](https://pandas.pydata.org/pandas-docs/stable/user_guide/groupby.html)\n"
   ]
  }
 ],
 "metadata": {
  "kernelspec": {
   "display_name": "Python 3 (ipykernel)",
   "language": "python",
   "name": "python3"
  },
  "language_info": {
   "codemirror_mode": {
    "name": "ipython",
    "version": 3
   },
   "file_extension": ".py",
   "mimetype": "text/x-python",
   "name": "python",
   "nbconvert_exporter": "python",
   "pygments_lexer": "ipython3",
   "version": "3.8.9"
  }
 },
 "nbformat": 4,
 "nbformat_minor": 4
}
