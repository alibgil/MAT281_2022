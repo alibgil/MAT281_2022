{
 "cells": [
  {
   "cell_type": "markdown",
   "metadata": {},
   "source": [
    "<a href=\"https://colab.research.google.com/github/fralfaro/MAT281_2022/blob/main/docs/lectures/data_manipulation/data_manipulation/pivot.ipynb\n",
    "\" target=\"_parent\"><img src=\"https://colab.research.google.com/assets/colab-badge.svg\" alt=\"Open In Colab\"/></a>\n",
    "\n",
    "# Pivot"
   ]
  },
  {
   "cell_type": "markdown",
   "metadata": {},
   "source": [
    "## Formato Wide y Formato Long\n",
    "\n",
    "Dentro del mundo de los dataframe (o datos tabulares) existen dos formas de presentar la naturaleza de los datos: formato wide y formato long. \n"
   ]
  },
  {
   "cell_type": "markdown",
   "metadata": {},
   "source": [
    "Por ejemplo, el conjunto de datos [Zoo Data Set](http://archive.ics.uci.edu/ml/datasets/zoo) presenta las características de diversos animales, de los cuales presentamos las primeras 5 columnas.\n",
    "\n",
    "|animal_name|hair|feathers|eggs|milk|\n",
    "|-----------|----|--------|----|----|\n",
    "|antelope|1|0|0|1|\n",
    "|bear|1|0|0|1|\n",
    "|buffalo|1|0|0|1|\n",
    "|catfish|0|0|1|0|\n",
    "\n",
    "La tabla así presentada se encuentra en **wide format**, es decir, donde los valores se extienden a través de las columnas."
   ]
  },
  {
   "cell_type": "markdown",
   "metadata": {},
   "source": [
    "Sería posible representar el mismo contenido anterior en **long format**, es decir, donde los mismos valores se indicaran a través de las filas:\n",
    "\n",
    "|animal_name|characteristic|value|\n",
    "|-----------|----|--------|\n",
    "|antelope|hair |1|\n",
    "|antelope|feathers|0|\n",
    "|antelope|eggs|0|\n",
    "|antelope|milk|1|\n",
    "|...|...|...|...|..|\n",
    "|catfish|hair |0|\n",
    "|catfish|feathers|0|\n",
    "|catfish|eggs|1|\n",
    "|catfish|milk|0|"
   ]
  },
  {
   "cell_type": "markdown",
   "metadata": {},
   "source": [
    "<img src=\"https://raw.githubusercontent.com/fralfaro/MAT281_2022/main/docs/lectures/data_manipulation/data_manipulation/images/wide_and_long.png\" align=\"center\"/>\n"
   ]
  },
  {
   "cell_type": "markdown",
   "metadata": {},
   "source": [
    "En python existen maneras de pasar del formato **wide** al formato **long** y viceversa."
   ]
  },
  {
   "cell_type": "markdown",
   "metadata": {},
   "source": [
    "## Pivotear y despivotear tablas"
   ]
  },
  {
   "cell_type": "markdown",
   "metadata": {},
   "source": [
    "### Pivot\n",
    "\n",
    "El pivoteo de una tabla corresponde al paso de una tabla desde el formato **long** al formato **wide**. Típicamente esto se realiza para poder comparar los valores que se obtienen para algún registro en particular, o para utilizar algunas herramientas de visualización básica que requieren dicho formato.\n",
    "\n",
    "Para ejemplificar estos resultados, ocupemos el conjunto de datos **terremotos.csv**, con contiene los registros de  terremotos de distintos paises desde el año 2000 al 2011.\n",
    "\n",
    "<img src=\"https://raw.githubusercontent.com/fralfaro/MAT281_2022/main/docs/lectures/data_manipulation/data_manipulation/images/logo_terremoto.png\" alt=\"\" align=\"center\" width=\"300\"/>\n"
   ]
  },
  {
   "cell_type": "code",
   "execution_count": 1,
   "metadata": {},
   "outputs": [],
   "source": [
    "import pandas as pd\n",
    "import numpy as np\n",
    "import os"
   ]
  },
  {
   "cell_type": "code",
   "execution_count": 4,
   "metadata": {},
   "outputs": [
    {
     "name": "stdout",
     "output_type": "stream",
     "text": [
      "    Año     Pais  Magnitud\n",
      "0  2011  Turkey        7.1\n",
      "1  2011   India        6.9\n",
      "2  2011   Japan        7.1\n",
      "3  2011   Burma        6.8\n",
      "4  2011   Japan        9.0\n"
     ]
    }
   ],
   "source": [
    "# formato long\n",
    "df = pd.read_csv(\n",
    "    \"https://raw.githubusercontent.com/fralfaro/MAT281_2022/main/docs/lectures/data_manipulation/data_manipulation/data/terremotos.csv\",\n",
    "    sep=\",\"\n",
    ")\n",
    "print(df.head())"
   ]
  },
  {
   "cell_type": "markdown",
   "metadata": {},
   "source": [
    "Por ejemplo,  se quiere saber el terremoto de mayor magnitud a nivel de país año. Tenemos dos formas de mostrar la información."
   ]
  },
  {
   "cell_type": "code",
   "execution_count": 5,
   "metadata": {},
   "outputs": [
    {
     "name": "stdout",
     "output_type": "stream",
     "text": [
      "                     Magnitud\n",
      "Pais           Año           \n",
      "Afghanistan    2000       6.3\n",
      "               2001       5.0\n",
      "               2002       5.8\n",
      "               2003       5.8\n",
      "               2004       6.5\n",
      "...                       ...\n",
      "Turkmenistan   2000       7.0\n",
      "United States  2001       6.8\n",
      "               2003       6.6\n",
      "Venezuela      2006       5.5\n",
      "Vietnam        2005       5.3\n",
      "\n",
      "[154 rows x 1 columns]\n"
     ]
    }
   ],
   "source": [
    "# formato long\n",
    "print(df.groupby(['Pais','Año']).max())"
   ]
  },
  {
   "cell_type": "code",
   "execution_count": 6,
   "metadata": {},
   "outputs": [
    {
     "name": "stdout",
     "output_type": "stream",
     "text": [
      "Año            2000 2001 2002 2003 2004 2005 2006 2007 2008 2009 2010 2011\n",
      "Pais                                                                      \n",
      "Afghanistan     6.3  5.0  5.8  5.8  6.5                                   \n",
      "Afghanistan               7.3            6.5                              \n",
      "Algeria         5.7            5.7            5.2       5.5               \n",
      "Algeria                        6.8                                        \n",
      "Argentina       7.2                 6.1                                   \n",
      "...             ...  ...  ...  ...  ...  ...  ...  ...  ...  ...  ...  ...\n",
      "Turkey                         6.3                                6.1  7.1\n",
      "Turkmenistan    7.0                                                       \n",
      "United States        6.8       6.6                                        \n",
      "Venezuela                                     5.5                         \n",
      "Vietnam                                  5.3                              \n",
      "\n",
      "[72 rows x 12 columns]\n"
     ]
    },
    {
     "name": "stderr",
     "output_type": "stream",
     "text": [
      "/var/folders/6x/_s6yr3bj2vj1vjwm6rsph_xr0000gp/T/ipykernel_2175/1332726552.py:2: FutureWarning: The pandas.np module is deprecated and will be removed from pandas in a future version. Import numpy directly instead.\n",
      "  df_pivot = df.pivot_table(index=\"Pais\", columns=\"Año\", values=\"Magnitud\", fill_value='', aggfunc=pd.np.max)\n"
     ]
    }
   ],
   "source": [
    "# formato wide\n",
    "df_pivot = df.pivot_table(index=\"Pais\", columns=\"Año\", values=\"Magnitud\", fill_value='', aggfunc=pd.np.max)\n",
    "print(df_pivot)"
   ]
  },
  {
   "cell_type": "markdown",
   "metadata": {},
   "source": [
    "### Despivotear un tabla\n",
    "\n",
    "El despivotear una tabla corresponde al paso de una tabla desde el formato **wide** al formato **long**. \n",
    "\n",
    "Se reconocen dos situaciones:\n",
    "\n",
    "1. El valor indicado para la columna es único, y sólo se requiere definir correctamente las columnas.\n",
    "2. El valor indicado por la columna no es único o requiere un procesamiento adicional, y se requiere una iteración más profunda.\n",
    "\n",
    "Para ejemplificar esto, crearemos un conjunto de datos con los horarios de los ramos que se tiene que dictar en un determinado día, hora y lugar."
   ]
  },
  {
   "cell_type": "markdown",
   "metadata": {},
   "source": [
    "\n",
    "<img src=\"https://raw.githubusercontent.com/fralfaro/MAT281_2022/main/docs/lectures/data_manipulation/data_manipulation/images/logo_classroom.png\" alt=\"\" align=\"center\" width=\"400px\"/>\n"
   ]
  },
  {
   "cell_type": "markdown",
   "metadata": {},
   "source": [
    "**a) El valor indicado para la columna es único**"
   ]
  },
  {
   "cell_type": "code",
   "execution_count": 7,
   "metadata": {},
   "outputs": [
    {
     "name": "stdout",
     "output_type": "stream",
     "text": [
      "   sala dia 08:00 09:00 10:00\n",
      "0  C201  Lu  mat1  mat1      \n",
      "1  C201  Ma                  \n",
      "2  C202  Lu                  \n",
      "3  C202  Ma  mat1  mat1      \n",
      "4  C203  Lu  fis1  fis1  fis1\n",
      "5  C203  Ma  fis1  fis1  fis1\n"
     ]
    }
   ],
   "source": [
    "columns = [\"sala\",\"dia\",\"08:00\",\"09:00\",\"10:00\"]\n",
    "data = [\n",
    "        [\"C201\",\"Lu\", \"mat1\",\"mat1\",    \"\"],\n",
    "        [\"C201\",\"Ma\", \"\",\"\",\"\"],\n",
    "        [\"C202\",\"Lu\", \"\",\"\",\"\"],\n",
    "        [\"C202\",\"Ma\", \"mat1\",\"mat1\",    \"\"],\n",
    "        [\"C203\",\"Lu\", \"fis1\",\"fis1\",\"fis1\"],\n",
    "        [\"C203\",\"Ma\", \"fis1\",\"fis1\",\"fis1\"],\n",
    "       ]\n",
    "df = pd.DataFrame(data=data, columns=columns)\n",
    "print(df)"
   ]
  },
  {
   "cell_type": "code",
   "execution_count": 8,
   "metadata": {},
   "outputs": [
    {
     "name": "stdout",
     "output_type": "stream",
     "text": [
      "    sala   hora curso\n",
      "0   C201    dia    Lu\n",
      "1   C201    dia    Ma\n",
      "2   C202    dia    Lu\n",
      "3   C202    dia    Ma\n",
      "4   C203    dia    Lu\n",
      "5   C203    dia    Ma\n",
      "6   C201  08:00  mat1\n",
      "7   C201  08:00      \n",
      "8   C202  08:00      \n",
      "9   C202  08:00  mat1\n",
      "10  C203  08:00  fis1\n",
      "11  C203  08:00  fis1\n",
      "12  C201  09:00  mat1\n",
      "13  C201  09:00      \n",
      "14  C202  09:00      \n",
      "15  C202  09:00  mat1\n",
      "16  C203  09:00  fis1\n",
      "17  C203  09:00  fis1\n",
      "18  C201  10:00      \n",
      "19  C201  10:00      \n",
      "20  C202  10:00      \n",
      "21  C202  10:00      \n",
      "22  C203  10:00  fis1\n",
      "23  C203  10:00  fis1\n"
     ]
    }
   ],
   "source": [
    "# Despivotear incorrectamente la tabla\n",
    "df_melt = df.melt(id_vars=[\"sala\"], var_name=\"hora\", value_name=\"curso\")\n",
    "print(df_melt)"
   ]
  },
  {
   "cell_type": "code",
   "execution_count": 9,
   "metadata": {},
   "outputs": [
    {
     "name": "stdout",
     "output_type": "stream",
     "text": [
      "    sala dia   hora curso\n",
      "0   C201  Lu  08:00  mat1\n",
      "6   C201  Lu  09:00  mat1\n",
      "3   C202  Ma  08:00  mat1\n",
      "9   C202  Ma  09:00  mat1\n",
      "4   C203  Lu  08:00  fis1\n",
      "10  C203  Lu  09:00  fis1\n",
      "16  C203  Lu  10:00  fis1\n",
      "5   C203  Ma  08:00  fis1\n",
      "11  C203  Ma  09:00  fis1\n",
      "17  C203  Ma  10:00  fis1\n"
     ]
    }
   ],
   "source": [
    "# Despivotear correctamente la tabla\n",
    "df_melt = df.melt(id_vars=[\"sala\", \"dia\"], var_name=\"hora\", value_name=\"curso\")\n",
    "print(df_melt[df_melt.curso!=\"\"].sort_values([\"sala\",\"dia\",\"hora\"]))"
   ]
  },
  {
   "cell_type": "markdown",
   "metadata": {},
   "source": [
    "**b) Relaciones no únicas**"
   ]
  },
  {
   "cell_type": "code",
   "execution_count": 10,
   "metadata": {},
   "outputs": [
    {
     "name": "stdout",
     "output_type": "stream",
     "text": [
      "   sala curso Lu Ma        hora\n",
      "0  C201  mat1  X     8:00-10:00\n",
      "1  C202  mat1     X  8:00-10:00\n",
      "2  C203  fis1  X  X  8:00-11:00\n"
     ]
    }
   ],
   "source": [
    "columns = [\"sala\",\"curso\",\"Lu\",\"Ma\",\"hora\"]\n",
    "data = [\n",
    "        [\"C201\",\"mat1\",\"X\",\"\",\"8:00-10:00\"],\n",
    "        [\"C202\",\"mat1\",\"\",\"X\",\"8:00-10:00\"],\n",
    "        [\"C203\",\"fis1\",\"X\",\"X\",\"8:00-11:00\"],\n",
    "       ]\n",
    "df = pd.DataFrame(data=data, columns=columns)\n",
    "print(df)"
   ]
  },
  {
   "cell_type": "markdown",
   "metadata": {},
   "source": [
    "#### Métodos"
   ]
  },
  {
   "cell_type": "markdown",
   "metadata": {},
   "source": [
    "**método 01:  Despivotear manualmente y generar un nuevo dataframe**\n",
    "\n",
    "* **Ventajas**: Si se puede es una solución directa y rápida.\n",
    "* **Desventaja**: requiere programación explícita de la tarea, no es reutilizable."
   ]
  },
  {
   "cell_type": "code",
   "execution_count": 12,
   "metadata": {},
   "outputs": [
    {
     "name": "stdout",
     "output_type": "stream",
     "text": [
      "   sala curso        hora dia\n",
      "0  C201  mat1  8:00-10:00  Lu\n",
      "2  C203  fis1  8:00-11:00  Lu\n"
     ]
    }
   ],
   "source": [
    "# Obtener el día lunes\n",
    "df_Lu = df.loc[df.Lu==\"X\", [\"sala\",\"curso\",\"hora\"]]\n",
    "df_Lu[\"dia\"] = \"Lu\"\n",
    "print(df_Lu)"
   ]
  },
  {
   "cell_type": "code",
   "execution_count": 13,
   "metadata": {},
   "outputs": [
    {
     "name": "stdout",
     "output_type": "stream",
     "text": [
      "   sala curso        hora dia\n",
      "1  C202  mat1  8:00-10:00  Ma\n",
      "2  C203  fis1  8:00-11:00  Ma\n"
     ]
    }
   ],
   "source": [
    "# Obtener el día martes\n",
    "df_Ma = df.loc[df.Ma==\"X\", [\"sala\",\"curso\",\"hora\"]]\n",
    "df_Ma[\"dia\"] = \"Ma\"\n",
    "print(df_Ma)"
   ]
  },
  {
   "cell_type": "code",
   "execution_count": 15,
   "metadata": {},
   "outputs": [
    {
     "name": "stdout",
     "output_type": "stream",
     "text": [
      "   sala curso        hora dia\n",
      "0  C201  mat1  8:00-10:00  Lu\n",
      "2  C203  fis1  8:00-11:00  Lu\n",
      "1  C202  mat1  8:00-10:00  Ma\n",
      "2  C203  fis1  8:00-11:00  Ma\n"
     ]
    }
   ],
   "source": [
    "# Juntar\n",
    "print(pd.concat([df_Lu,df_Ma]))"
   ]
  },
  {
   "cell_type": "markdown",
   "metadata": {},
   "source": [
    "**método 02: Iterar sobre las filas y generar contenido para un nuevo dataframe**\n",
    "* **Ventajas**: En general, fácil de codificar.\n",
    "* **Desventaja**: puede ser lento, es ineficiente."
   ]
  },
  {
   "cell_type": "code",
   "execution_count": 16,
   "metadata": {},
   "outputs": [
    {
     "name": "stdout",
     "output_type": "stream",
     "text": [
      "   sala curso dia        hora\n",
      "0  C201  mat1  Lu  8:00-10:00\n",
      "1  C202  mat1  Ma  8:00-10:00\n",
      "2  C203  fis1  Lu  8:00-11:00\n",
      "3  C203  fis1  Ma  8:00-11:00\n"
     ]
    }
   ],
   "source": [
    "my_columns = [\"sala\",\"curso\",\"dia\",\"hora\"]\n",
    "my_data = []\n",
    "for i, df_row in df.iterrows():\n",
    "    # Procesar cada fila\n",
    "    if df_row.Lu==\"X\":\n",
    "        my_row = [df_row.sala, df_row.curso, \"Lu\", df_row.hora]\n",
    "        my_data.append(my_row)\n",
    "    if df_row.Ma==\"X\":\n",
    "        my_row = [df_row.sala, df_row.curso, \"Ma\", df_row.hora]\n",
    "        my_data.append(my_row)\n",
    "new_df = pd.DataFrame(data=my_data, columns=my_columns)\n",
    "print(new_df)"
   ]
  },
  {
   "cell_type": "markdown",
   "metadata": {},
   "source": [
    "## Referencia\n",
    "\n",
    "1. [Reshaping and pivot tables](https://pandas.pydata.org/pandas-docs/stable/user_guide/reshaping.html)"
   ]
  }
 ],
 "metadata": {
  "kernelspec": {
   "display_name": "Python 3 (ipykernel)",
   "language": "python",
   "name": "python3"
  },
  "language_info": {
   "codemirror_mode": {
    "name": "ipython",
    "version": 3
   },
   "file_extension": ".py",
   "mimetype": "text/x-python",
   "name": "python",
   "nbconvert_exporter": "python",
   "pygments_lexer": "ipython3",
   "version": "3.8.9"
  }
 },
 "nbformat": 4,
 "nbformat_minor": 4
}
