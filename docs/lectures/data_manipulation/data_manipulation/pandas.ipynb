{
 "cells": [
  {
   "cell_type": "markdown",
   "metadata": {},
   "source": [
    "<a href=\"https://colab.research.google.com/github/fralfaro/MAT281_2022/blob/main/docs/lectures/data_manipulation/data_manipulation/pandas.ipynb\n",
    "\" target=\"_parent\"><img src=\"https://colab.research.google.com/assets/colab-badge.svg\" alt=\"Open In Colab\"/></a>\n",
    "\n",
    "\n",
    "# Pandas"
   ]
  },
  {
   "cell_type": "markdown",
   "metadata": {},
   "source": [
    "<img src=\"https://raw.githubusercontent.com/fralfaro/MAT281_2022/main/docs/lectures/data_manipulation/data_manipulation/images/pandas.jpeg\" width=\"360\" height=\"240\" align=\"center\"/>"
   ]
  },
  {
   "cell_type": "markdown",
   "metadata": {},
   "source": [
    "[Pandas](https://pandas.pydata.org/) es un paquete de Python que proporciona estructuras de datos rápidas, flexibles y expresivas diseñadas para que trabajar con datos \"relacionales\" o \"etiquetados\" sea fácil e intuitivo. \n",
    "\n",
    "Su objetivo es ser el bloque de construcción fundamental de alto nivel para hacer análisis de datos prácticos del mundo real en Python. Además, tiene el objetivo más amplio de convertirse en la herramienta de análisis/manipulación de datos de código abierto más potente y flexible disponible en cualquier idioma. Ya está en camino hacia este objetivo."
   ]
  },
  {
   "cell_type": "markdown",
   "metadata": {},
   "source": [
    "**Series y DataFrames**\n",
    "\n",
    "* Las **series** son  arreglos unidimensionales con etiquetas. Se puede pensar como una generalización de los diccionarios de Python. \n",
    "\n",
    "* Los **dataframe** son arreglos bidimensionales y una extensión natural de las series. Se puede pensar como la generalización de un numpy.array.\n"
   ]
  },
  {
   "cell_type": "markdown",
   "metadata": {},
   "source": [
    "## Pandas Series\n",
    "\n",
    "### Trabajando con  pandas.Series\n",
    "\n",
    "<img src=\"https://raw.githubusercontent.com/fralfaro/MAT281_2022/main/docs/lectures/data_manipulation/data_manipulation/images/series.png\"  align=\"center\"/>"
   ]
  },
  {
   "cell_type": "code",
   "execution_count": 1,
   "metadata": {},
   "outputs": [],
   "source": [
    "# importar libreria: pandas, os\n",
    "import pandas as pd\n",
    "import numpy as np\n",
    "import os"
   ]
  },
  {
   "cell_type": "code",
   "execution_count": 2,
   "metadata": {},
   "outputs": [
    {
     "name": "stdout",
     "output_type": "stream",
     "text": [
      "serie:\n",
      "a     3\n",
      "b     6\n",
      "c     9\n",
      "d    12\n",
      "e    15\n",
      "f    18\n",
      "g    21\n",
      "h    24\n",
      "i    27\n",
      "j    30\n",
      "dtype: int64\n"
     ]
    }
   ],
   "source": [
    "# crear serie\n",
    "my_serie = pd.Series(\n",
    "    range(3, 33, 3),\n",
    "    index=list('abcdefghij')\n",
    ")\n",
    "\n",
    "# imprimir serie\n",
    "print(\"serie:\")\n",
    "print( my_serie )"
   ]
  },
  {
   "cell_type": "code",
   "execution_count": 3,
   "metadata": {},
   "outputs": [
    {
     "name": "stdout",
     "output_type": "stream",
     "text": [
      "type:\n",
      "<class 'pandas.core.series.Series'>\n"
     ]
    }
   ],
   "source": [
    "# tipo \n",
    "print(\"type:\")\n",
    "print( type(my_serie) )"
   ]
  },
  {
   "cell_type": "code",
   "execution_count": 4,
   "metadata": {},
   "outputs": [
    {
     "name": "stdout",
     "output_type": "stream",
     "text": [
      "values:\n",
      "[ 3  6  9 12 15 18 21 24 27 30]\n"
     ]
    }
   ],
   "source": [
    "# valores \n",
    "print(\"values:\")\n",
    "print(my_serie.values)"
   ]
  },
  {
   "cell_type": "code",
   "execution_count": 5,
   "metadata": {},
   "outputs": [
    {
     "name": "stdout",
     "output_type": "stream",
     "text": [
      "index:\n",
      "Index(['a', 'b', 'c', 'd', 'e', 'f', 'g', 'h', 'i', 'j'], dtype='object')\n"
     ]
    }
   ],
   "source": [
    "# indice\n",
    "print(\"index:\")\n",
    "print(my_serie.index)"
   ]
  },
  {
   "cell_type": "code",
   "execution_count": 6,
   "metadata": {},
   "outputs": [
    {
     "name": "stdout",
     "output_type": "stream",
     "text": [
      "direct:\n",
      "6\n"
     ]
    }
   ],
   "source": [
    "# acceder al valor de la serie: directo\n",
    "print(\"direct:\")\n",
    "print(my_serie['b'])"
   ]
  },
  {
   "cell_type": "code",
   "execution_count": 7,
   "metadata": {},
   "outputs": [
    {
     "name": "stdout",
     "output_type": "stream",
     "text": [
      "loc:\n",
      "6\n"
     ]
    }
   ],
   "source": [
    "# acceder al valor de la serie: loc\n",
    "print(\"loc:\")\n",
    "print(my_serie.loc['b'])"
   ]
  },
  {
   "cell_type": "code",
   "execution_count": 8,
   "metadata": {},
   "outputs": [
    {
     "name": "stdout",
     "output_type": "stream",
     "text": [
      "iloc:\n",
      "6\n"
     ]
    }
   ],
   "source": [
    "# acceder al valor de la serie: iloc\n",
    "print(\"iloc:\")\n",
    "print(my_serie.iloc[1])"
   ]
  },
  {
   "cell_type": "code",
   "execution_count": 9,
   "metadata": {},
   "outputs": [
    {
     "name": "stdout",
     "output_type": "stream",
     "text": [
      "edit:\n",
      "\n",
      "old 'd': 12\n",
      "new 'd': 1000\n"
     ]
    }
   ],
   "source": [
    "# editar valores\n",
    "print(\"edit:\")\n",
    "print(\"\\nold 'd':\",my_serie.loc['d'] )\n",
    "my_serie.loc['d'] = 1000\n",
    "print(\"new 'd':\",my_serie.loc['d'] )"
   ]
  },
  {
   "cell_type": "code",
   "execution_count": 10,
   "metadata": {},
   "outputs": [
    {
     "name": "stdout",
     "output_type": "stream",
     "text": [
      "order:\n"
     ]
    },
    {
     "data": {
      "text/plain": [
       "a       3\n",
       "b       6\n",
       "c       9\n",
       "e      15\n",
       "f      18\n",
       "g      21\n",
       "h      24\n",
       "i      27\n",
       "j      30\n",
       "d    1000\n",
       "dtype: int64"
      ]
     },
     "execution_count": 10,
     "metadata": {},
     "output_type": "execute_result"
    }
   ],
   "source": [
    "# ordenar valores\n",
    "print(\"order:\")\n",
    "my_serie.sort_values(ascending = True)"
   ]
  },
  {
   "cell_type": "markdown",
   "metadata": {},
   "source": [
    "### Operaciones matemáticas\n",
    "\n",
    "Al igual que numpy, las series de pandas pueden realizar operaciones matemáticas similares (mientrás los arreglos a operar sean del tipo numérico). Por otro lado existen otras funciones de utilidad."
   ]
  },
  {
   "cell_type": "markdown",
   "metadata": {},
   "source": [
    "**Básicas**"
   ]
  },
  {
   "cell_type": "code",
   "execution_count": 11,
   "metadata": {},
   "outputs": [
    {
     "name": "stdout",
     "output_type": "stream",
     "text": [
      "suma: \n",
      "0    2\n",
      "1    3\n",
      "2    5\n",
      "3    6\n",
      "4    7\n",
      "dtype: int64\n",
      "\n",
      "multiplicacion: \n",
      "0     1\n",
      "1     2\n",
      "2     6\n",
      "3     8\n",
      "4    10\n",
      "dtype: int64\n"
     ]
    }
   ],
   "source": [
    "s1 = pd.Series([1,2,3,4,5])\n",
    "s2 = pd.Series([1,1,2,2,2])\n",
    "\n",
    "# suma\n",
    "print(f\"suma: \\n{s1+s2}\\n\")\n",
    "\n",
    "# multiplicacion\n",
    "print(f\"multiplicacion: \\n{s1*s2}\")"
   ]
  },
  {
   "cell_type": "markdown",
   "metadata": {},
   "source": [
    "**Estadísticas**"
   ]
  },
  {
   "cell_type": "code",
   "execution_count": 12,
   "metadata": {},
   "outputs": [
    {
     "name": "stdout",
     "output_type": "stream",
     "text": [
      "max:    5\n",
      "min:    1\n",
      "mean:   3.0\n",
      "median: 3.0\n"
     ]
    }
   ],
   "source": [
    "# crear serie\n",
    "s1 = pd.Series([1,1,1,2,2,2,3,3,3,4,5,5,5,5])\n",
    "print(f\"max:    {s1.max()}\") # maximo\n",
    "print(f\"min:    {s1.min()}\") # minimo\n",
    "print(f\"mean:   {s1.mean()}\") # promedio\n",
    "print(f\"median: {s1.median()}\") # mediana"
   ]
  },
  {
   "cell_type": "code",
   "execution_count": 13,
   "metadata": {},
   "outputs": [
    {
     "data": {
      "text/plain": [
       "count    14.000000\n",
       "mean      3.000000\n",
       "std       1.568929\n",
       "min       1.000000\n",
       "25%       2.000000\n",
       "50%       3.000000\n",
       "75%       4.750000\n",
       "max       5.000000\n",
       "dtype: float64"
      ]
     },
     "execution_count": 13,
     "metadata": {},
     "output_type": "execute_result"
    }
   ],
   "source": [
    "# funcion describe\n",
    "s1.describe()"
   ]
  },
  {
   "cell_type": "markdown",
   "metadata": {},
   "source": [
    "**Conteos**"
   ]
  },
  {
   "cell_type": "code",
   "execution_count": 14,
   "metadata": {},
   "outputs": [
    {
     "name": "stdout",
     "output_type": "stream",
     "text": [
      "Conteo:\n",
      "c    4\n",
      "a    2\n",
      "b    1\n",
      "d    1\n",
      "dtype: int64\n"
     ]
    }
   ],
   "source": [
    "# funcion count_values\n",
    "s2 = pd.Series([\"a\",\"a\",\"b\",\"c\",\"c\",\"c\",\"c\",\"d\",])\n",
    "print(f\"Conteo:\\n{s2.value_counts()}\")"
   ]
  },
  {
   "cell_type": "markdown",
   "metadata": {},
   "source": [
    "### Masking\n",
    "\n",
    "Existen módulos para acceder a valores que queremos que cumplan una determinada regla. Por ejemplo, acceder al valor máximo de una serie. En este caso a esta regla la denominaremos *mask*.\n"
   ]
  },
  {
   "cell_type": "code",
   "execution_count": 15,
   "metadata": {},
   "outputs": [],
   "source": [
    "# 1. definir valor maximo \n",
    "n_max = s1.max()"
   ]
  },
  {
   "cell_type": "code",
   "execution_count": 16,
   "metadata": {},
   "outputs": [],
   "source": [
    "# 2.- definir \"mask\" que busca el valor objetivo\n",
    "mask = (s1 == n_max)"
   ]
  },
  {
   "cell_type": "code",
   "execution_count": 17,
   "metadata": {},
   "outputs": [
    {
     "data": {
      "text/plain": [
       "10    5\n",
       "11    5\n",
       "12    5\n",
       "13    5\n",
       "dtype: int64"
      ]
     },
     "execution_count": 17,
     "metadata": {},
     "output_type": "execute_result"
    }
   ],
   "source": [
    "# 3.- aplicar mask sobre la serie\n",
    "s1[mask]"
   ]
  },
  {
   "cell_type": "markdown",
   "metadata": {},
   "source": [
    "### Valores Nulos o datos perdidos\n",
    "\n",
    "En algunas ocaciones, los arreglos no tienen información en una determinada posición, lo cual puede ser perjudicial si no se tiene control sobre estos valores.\n",
    "\n",
    "**Encontrar valores nulos**"
   ]
  },
  {
   "cell_type": "code",
   "execution_count": 18,
   "metadata": {},
   "outputs": [
    {
     "data": {
      "text/plain": [
       "0    1.0\n",
       "1    2.0\n",
       "2    NaN\n",
       "3    4.0\n",
       "4    5.0\n",
       "5    6.0\n",
       "6    7.0\n",
       "7    NaN\n",
       "8    9.0\n",
       "dtype: float64"
      ]
     },
     "execution_count": 18,
     "metadata": {},
     "output_type": "execute_result"
    }
   ],
   "source": [
    "# crear serie\n",
    "s_null = pd.Series([1,2,np.nan,4,5,6,7,np.nan,9])\n",
    "s_null"
   ]
  },
  {
   "cell_type": "code",
   "execution_count": 19,
   "metadata": {},
   "outputs": [
    {
     "name": "stdout",
     "output_type": "stream",
     "text": [
      "is null?:\n",
      "\n",
      "0    False\n",
      "1    False\n",
      "2     True\n",
      "3    False\n",
      "4    False\n",
      "5    False\n",
      "6    False\n",
      "7     True\n",
      "8    False\n",
      "dtype: bool\n"
     ]
    }
   ],
   "source": [
    "# mask valores nulos\n",
    "print(\"is null?:\\n\")\n",
    "print(s_null.isnull() )"
   ]
  },
  {
   "cell_type": "code",
   "execution_count": 20,
   "metadata": {},
   "outputs": [
    {
     "name": "stdout",
     "output_type": "stream",
     "text": [
      "null serie: \n",
      "\n",
      "2   NaN\n",
      "7   NaN\n",
      "dtype: float64\n"
     ]
    }
   ],
   "source": [
    "# filtrar valores nulos\n",
    "print(\"null serie: \\n\")\n",
    "print(s_null[s_null.isnull()] )"
   ]
  },
  {
   "cell_type": "markdown",
   "metadata": {},
   "source": [
    "**Encontrar valores no nulos**"
   ]
  },
  {
   "cell_type": "code",
   "execution_count": 21,
   "metadata": {},
   "outputs": [
    {
     "name": "stdout",
     "output_type": "stream",
     "text": [
      "serie:\n",
      "0    1.0\n",
      "1    2.0\n",
      "2    NaN\n",
      "3    4.0\n",
      "4    5.0\n",
      "5    6.0\n",
      "6    7.0\n",
      "7    NaN\n",
      "8    9.0\n",
      "dtype: float64\n"
     ]
    }
   ],
   "source": [
    "# imprimir serie\n",
    "print(\"serie:\")\n",
    "print( s_null )"
   ]
  },
  {
   "cell_type": "code",
   "execution_count": 22,
   "metadata": {},
   "outputs": [
    {
     "name": "stdout",
     "output_type": "stream",
     "text": [
      "\n",
      "is not null?:\n",
      "0     True\n",
      "1     True\n",
      "2    False\n",
      "3     True\n",
      "4     True\n",
      "5     True\n",
      "6     True\n",
      "7    False\n",
      "8     True\n",
      "dtype: bool\n"
     ]
    }
   ],
   "source": [
    "# mask valores no nulos\n",
    "print(\"\\nis not null?:\")\n",
    "print(s_null.notnull() )"
   ]
  },
  {
   "cell_type": "code",
   "execution_count": 23,
   "metadata": {},
   "outputs": [
    {
     "name": "stdout",
     "output_type": "stream",
     "text": [
      "\n",
      "serie with not null values\n",
      "0    1.0\n",
      "1    2.0\n",
      "3    4.0\n",
      "4    5.0\n",
      "5    6.0\n",
      "6    7.0\n",
      "8    9.0\n",
      "dtype: float64\n"
     ]
    }
   ],
   "source": [
    "# filtrar valores no nulos\n",
    "print(\"\\nserie with not null values\")\n",
    "print(s_null[s_null.notnull()] )"
   ]
  },
  {
   "cell_type": "markdown",
   "metadata": {},
   "source": [
    "La pregunta que nos queda hacer es: ¿ Qué se debe hacer con los valores nulos ?, la respuesta es **depende**.\n",
    "\n",
    "   * Si tenemos muchos datos, lo más probable es que se puedan eliminar estos datos sin culpa.\n",
    "   * Si se tienen poco datos, lo más probable es que se necesite inputar un valor por defecto a los valores nulos (**ejemplo**: el promedio)."
   ]
  },
  {
   "cell_type": "markdown",
   "metadata": {},
   "source": [
    "###  Manejo de Fechas\n",
    "\n",
    "Pandas también trae módulos para trabajar el formato de fechas."
   ]
  },
  {
   "cell_type": "markdown",
   "metadata": {},
   "source": [
    "**Crear Serie de fechas**"
   ]
  },
  {
   "cell_type": "code",
   "execution_count": 24,
   "metadata": {},
   "outputs": [],
   "source": [
    "# crear serie de fechas\n",
    "date_rng = pd.date_range(start='1/1/2019', end='1/03/2019', freq='4H')"
   ]
  },
  {
   "cell_type": "code",
   "execution_count": 25,
   "metadata": {},
   "outputs": [
    {
     "name": "stdout",
     "output_type": "stream",
     "text": [
      "serie:\n",
      "DatetimeIndex(['2019-01-01 00:00:00', '2019-01-01 04:00:00',\n",
      "               '2019-01-01 08:00:00', '2019-01-01 12:00:00',\n",
      "               '2019-01-01 16:00:00', '2019-01-01 20:00:00',\n",
      "               '2019-01-02 00:00:00', '2019-01-02 04:00:00',\n",
      "               '2019-01-02 08:00:00', '2019-01-02 12:00:00',\n",
      "               '2019-01-02 16:00:00', '2019-01-02 20:00:00',\n",
      "               '2019-01-03 00:00:00'],\n",
      "              dtype='datetime64[ns]', freq='4H')\n"
     ]
    }
   ],
   "source": [
    "# imprimir serie\n",
    "print(\"serie:\")\n",
    "print( date_rng )"
   ]
  },
  {
   "cell_type": "code",
   "execution_count": 26,
   "metadata": {},
   "outputs": [
    {
     "name": "stdout",
     "output_type": "stream",
     "text": [
      "type:\n",
      "\n",
      "<class 'pandas.core.indexes.datetimes.DatetimeIndex'>\n"
     ]
    }
   ],
   "source": [
    "# tipo \n",
    "print(\"type:\\n\")\n",
    "print( type(date_rng) )"
   ]
  },
  {
   "cell_type": "markdown",
   "metadata": {},
   "source": [
    "**Atributos de las fechas**"
   ]
  },
  {
   "cell_type": "code",
   "execution_count": 27,
   "metadata": {},
   "outputs": [
    {
     "name": "stdout",
     "output_type": "stream",
     "text": [
      "date:\n",
      "\n",
      "[datetime.date(2019, 1, 1) datetime.date(2019, 1, 1)\n",
      " datetime.date(2019, 1, 1) datetime.date(2019, 1, 1)\n",
      " datetime.date(2019, 1, 1) datetime.date(2019, 1, 1)\n",
      " datetime.date(2019, 1, 2) datetime.date(2019, 1, 2)\n",
      " datetime.date(2019, 1, 2) datetime.date(2019, 1, 2)\n",
      " datetime.date(2019, 1, 2) datetime.date(2019, 1, 2)\n",
      " datetime.date(2019, 1, 3)]\n",
      "\n",
      "hour:\n",
      "\n",
      "[datetime.time(0, 0) datetime.time(4, 0) datetime.time(8, 0)\n",
      " datetime.time(12, 0) datetime.time(16, 0) datetime.time(20, 0)\n",
      " datetime.time(0, 0) datetime.time(4, 0) datetime.time(8, 0)\n",
      " datetime.time(12, 0) datetime.time(16, 0) datetime.time(20, 0)\n",
      " datetime.time(0, 0)]\n"
     ]
    }
   ],
   "source": [
    "# obtener fechas\n",
    "print(\"date:\\n\")\n",
    "print(date_rng.date)\n",
    "\n",
    "# obtener tiempo\n",
    "print(\"\\nhour:\\n\")\n",
    "print(date_rng.time)"
   ]
  },
  {
   "cell_type": "markdown",
   "metadata": {},
   "source": [
    "**Fechas y string**"
   ]
  },
  {
   "cell_type": "code",
   "execution_count": 28,
   "metadata": {},
   "outputs": [
    {
     "name": "stdout",
     "output_type": "stream",
     "text": [
      "datetime to string: \n",
      "\n",
      "['2019-01-01 00:00:00' '2019-01-01 04:00:00' '2019-01-01 08:00:00'\n",
      " '2019-01-01 12:00:00' '2019-01-01 16:00:00' '2019-01-01 20:00:00'\n",
      " '2019-01-02 00:00:00' '2019-01-02 04:00:00' '2019-01-02 08:00:00'\n",
      " '2019-01-02 12:00:00' '2019-01-02 16:00:00' '2019-01-02 20:00:00'\n",
      " '2019-01-03 00:00:00']\n"
     ]
    }
   ],
   "source": [
    "# elementos de datetime a string \n",
    "string_date_rng = [str(x) for x in date_rng]\n",
    "\n",
    "print(\"datetime to string: \\n\")\n",
    "print( np.array(string_date_rng) )"
   ]
  },
  {
   "cell_type": "code",
   "execution_count": 29,
   "metadata": {},
   "outputs": [
    {
     "name": "stdout",
     "output_type": "stream",
     "text": [
      "string to datetime:\n",
      "\n",
      "DatetimeIndex(['2019-01-01 00:00:00', '2019-01-01 04:00:00',\n",
      "               '2019-01-01 08:00:00', '2019-01-01 12:00:00',\n",
      "               '2019-01-01 16:00:00', '2019-01-01 20:00:00',\n",
      "               '2019-01-02 00:00:00', '2019-01-02 04:00:00',\n",
      "               '2019-01-02 08:00:00', '2019-01-02 12:00:00',\n",
      "               '2019-01-02 16:00:00', '2019-01-02 20:00:00',\n",
      "               '2019-01-03 00:00:00'],\n",
      "              dtype='datetime64[ns]', freq=None)\n"
     ]
    }
   ],
   "source": [
    "# elementos de string a datetime \n",
    "timestamp_date_rng = pd.to_datetime(string_date_rng, infer_datetime_format=True)\n",
    "\n",
    "print(\"string to datetime:\\n\")\n",
    "print( timestamp_date_rng )"
   ]
  },
  {
   "cell_type": "markdown",
   "metadata": {},
   "source": [
    "## Pandas Dataframes\n",
    "\n",
    "### Trabajando  con pandas.DataFrames\n",
    "\n",
    "<img src=\"https://raw.githubusercontent.com/fralfaro/MAT281_2022/main/docs/lectures/data_manipulation/data_manipulation/images/dataframe.png\" align=\"center\"/>\n",
    "\n",
    "\n",
    "Como se mencina anteriormente, los dataframes son arreglos de series, los cuales pueden ser de distintos tipos (numéricos, string, etc.). En esta parte mostraremos un ejemplo aplicado de las distintas funcionalidades de los dataframes."
   ]
  },
  {
   "cell_type": "markdown",
   "metadata": {},
   "source": [
    "### Creación de dataframes\n",
    "\n",
    "La creación se puede hacer de variadas formas con listas, dictionarios , numpy array , entre otros.\n"
   ]
  },
  {
   "cell_type": "code",
   "execution_count": 53,
   "metadata": {},
   "outputs": [
    {
     "name": "stdout",
     "output_type": "stream",
     "text": [
      "Empty DataFrame\n",
      "Columns: []\n",
      "Index: []\n"
     ]
    }
   ],
   "source": [
    "# empty dataframe\n",
    "df_empty = pd.DataFrame()\n",
    "print(df_empty)"
   ]
  },
  {
   "cell_type": "code",
   "execution_count": 54,
   "metadata": {},
   "outputs": [
    {
     "name": "stdout",
     "output_type": "stream",
     "text": [
      "      nombre     apellido  edad\n",
      "0  nombre_01  apellido_01    60\n",
      "1  nombre_02  apellido_02    14\n"
     ]
    }
   ],
   "source": [
    "# dataframe with list\n",
    "df_list = pd.DataFrame(\n",
    "    [\n",
    "        [\"nombre_01\", \"apellido_01\", 60],\n",
    "        [\"nombre_02\", \"apellido_02\", 14]\n",
    "    ],\n",
    "    \n",
    "    columns = [\"nombre\", \"apellido\", \"edad\"]\n",
    ")\n",
    "print(df_list)"
   ]
  },
  {
   "cell_type": "code",
   "execution_count": 55,
   "metadata": {},
   "outputs": [
    {
     "name": "stdout",
     "output_type": "stream",
     "text": [
      "      nombre     apellido  edad\n",
      "0  nombre_01  apellido_01    60\n",
      "1  nombre_02  apellido_02    14\n"
     ]
    }
   ],
   "source": [
    "# dataframe with dct\n",
    "df_dct =  pd.DataFrame(\n",
    "    {\n",
    "        \"nombre\": [\"nombre_01\", \"nombre_02\",],\n",
    "        \"apellido\": [\"apellido_01\", \"apellido_02\"],\n",
    "        \"edad\": np.array([60,14]),\n",
    "    }\n",
    ")\n",
    "\n",
    "print(df_dct)"
   ]
  },
  {
   "cell_type": "markdown",
   "metadata": {},
   "source": [
    "### Lectura de datos con dataframes\n",
    "\n",
    "En general, cuando se trabajan con datos, estos se almacenan en algún lugar y en algún tipo de formato, por ejemplo:\n",
    "* `.txt`\n",
    "* `.csv`\n",
    "* `.xlsx`\n",
    "* `.db`\n",
    "* etc.\n",
    " \n",
    " \n",
    "\n",
    "Para cada formato, existe un módulo para realizar la lectura de datos. En este caso, se analiza el conjunto de datos 'player_data.csv', el cual muestra informacion básica de algunos jugadores de la NBA.\n",
    "\n",
    "<img src=\"https://raw.githubusercontent.com/fralfaro/MAT281_2022/main/docs/lectures/data_manipulation/data_manipulation/images/nba_logo.jpg\" align=\"center\"  width=\"360\" height=\"240\"/>\n",
    "\n",
    "\n"
   ]
  },
  {
   "cell_type": "code",
   "execution_count": 52,
   "metadata": {},
   "outputs": [
    {
     "name": "stdout",
     "output_type": "stream",
     "text": [
      "                     name  year_start  year_end position height  weight  \\\n",
      "0          Alaa Abdelnaby        1991      1995      F-C   6-10   240.0   \n",
      "1         Zaid Abdul-Aziz        1969      1978      C-F    6-9   235.0   \n",
      "2     Kareem Abdul-Jabbar        1970      1989        C    7-2   225.0   \n",
      "3      Mahmoud Abdul-Rauf        1991      2001        G    6-1   162.0   \n",
      "4       Tariq Abdul-Wahad        1998      2003        F    6-6   223.0   \n",
      "...                   ...         ...       ...      ...    ...     ...   \n",
      "4545           Ante Zizic        2018      2018      F-C   6-11   250.0   \n",
      "4546             Jim Zoet        1983      1983        C    7-1   240.0   \n",
      "4547            Bill Zopf        1971      1971        G    6-1   170.0   \n",
      "4548          Ivica Zubac        2017      2018        C    7-1   265.0   \n",
      "4549           Matt Zunic        1949      1949      G-F    6-3   195.0   \n",
      "\n",
      "             birth_date                                college  \n",
      "0         June 24, 1968                        Duke University  \n",
      "1         April 7, 1946                  Iowa State University  \n",
      "2        April 16, 1947  University of California, Los Angeles  \n",
      "3         March 9, 1969             Louisiana State University  \n",
      "4      November 3, 1974              San Jose State University  \n",
      "...                 ...                                    ...  \n",
      "4545    January 4, 1997                                    NaN  \n",
      "4546  December 20, 1953                  Kent State University  \n",
      "4547       June 7, 1948                    Duquesne University  \n",
      "4548     March 18, 1997                                    NaN  \n",
      "4549  December 19, 1919           George Washington University  \n",
      "\n",
      "[4550 rows x 8 columns]\n"
     ]
    }
   ],
   "source": [
    "# load data\n",
    "player_data = pd.read_csv(\n",
    "    'https://raw.githubusercontent.com/fralfaro/MAT281_2022/main/docs/lectures/data_manipulation/data_manipulation/data/player_data.csv', # path\n",
    "    sep=\",\" # separation\n",
    ")\n",
    "print(player_data)"
   ]
  },
  {
   "cell_type": "markdown",
   "metadata": {},
   "source": [
    "### Módulos básicos\n",
    "\n",
    "Existen módulos para comprender rápidamente la naturaleza del dataframe."
   ]
  },
  {
   "cell_type": "code",
   "execution_count": 34,
   "metadata": {},
   "outputs": [
    {
     "name": "stdout",
     "output_type": "stream",
     "text": [
      "first 5 rows:\n",
      "                  name  year_start  year_end position height  weight  \\\n",
      "0       Alaa Abdelnaby        1991      1995      F-C   6-10   240.0   \n",
      "1      Zaid Abdul-Aziz        1969      1978      C-F    6-9   235.0   \n",
      "2  Kareem Abdul-Jabbar        1970      1989        C    7-2   225.0   \n",
      "3   Mahmoud Abdul-Rauf        1991      2001        G    6-1   162.0   \n",
      "4    Tariq Abdul-Wahad        1998      2003        F    6-6   223.0   \n",
      "\n",
      "         birth_date                                college  \n",
      "0     June 24, 1968                        Duke University  \n",
      "1     April 7, 1946                  Iowa State University  \n",
      "2    April 16, 1947  University of California, Los Angeles  \n",
      "3     March 9, 1969             Louisiana State University  \n",
      "4  November 3, 1974              San Jose State University  \n"
     ]
    }
   ],
   "source": [
    "# primeras silas\n",
    "print(\"first 5 rows:\")\n",
    "print(player_data.head(5))"
   ]
  },
  {
   "cell_type": "code",
   "execution_count": 35,
   "metadata": {},
   "outputs": [
    {
     "name": "stdout",
     "output_type": "stream",
     "text": [
      "\n",
      "last 5 rows:\n",
      "             name  year_start  year_end position height  weight  \\\n",
      "4545   Ante Zizic        2018      2018      F-C   6-11   250.0   \n",
      "4546     Jim Zoet        1983      1983        C    7-1   240.0   \n",
      "4547    Bill Zopf        1971      1971        G    6-1   170.0   \n",
      "4548  Ivica Zubac        2017      2018        C    7-1   265.0   \n",
      "4549   Matt Zunic        1949      1949      G-F    6-3   195.0   \n",
      "\n",
      "             birth_date                       college  \n",
      "4545    January 4, 1997                           NaN  \n",
      "4546  December 20, 1953         Kent State University  \n",
      "4547       June 7, 1948           Duquesne University  \n",
      "4548     March 18, 1997                           NaN  \n",
      "4549  December 19, 1919  George Washington University  \n"
     ]
    }
   ],
   "source": [
    "# ultimas filas\n",
    "print(\"\\nlast 5 rows:\")\n",
    "print(player_data.tail(5))"
   ]
  },
  {
   "cell_type": "code",
   "execution_count": 36,
   "metadata": {},
   "outputs": [
    {
     "name": "stdout",
     "output_type": "stream",
     "text": [
      "\n",
      "type of dataframe:\n"
     ]
    },
    {
     "data": {
      "text/plain": [
       "pandas.core.frame.DataFrame"
      ]
     },
     "execution_count": 36,
     "metadata": {},
     "output_type": "execute_result"
    }
   ],
   "source": [
    "# tipo\n",
    "print(\"\\ntype of dataframe:\")\n",
    "type(player_data)"
   ]
  },
  {
   "cell_type": "code",
   "execution_count": 37,
   "metadata": {},
   "outputs": [
    {
     "name": "stdout",
     "output_type": "stream",
     "text": [
      "\n",
      "type of columns:\n",
      "name           object\n",
      "year_start      int64\n",
      "year_end        int64\n",
      "position       object\n",
      "height         object\n",
      "weight        float64\n",
      "birth_date     object\n",
      "college        object\n",
      "dtype: object\n"
     ]
    }
   ],
   "source": [
    "# tipo por columnas\n",
    "print(\"\\ntype of columns:\")\n",
    "print(player_data.dtypes)"
   ]
  },
  {
   "cell_type": "code",
   "execution_count": 38,
   "metadata": {},
   "outputs": [
    {
     "name": "stdout",
     "output_type": "stream",
     "text": [
      "\n",
      "shape:\n",
      "(4550, 8)\n"
     ]
    }
   ],
   "source": [
    "# dimension\n",
    "print(\"\\nshape:\")\n",
    "print(player_data.shape)"
   ]
  },
  {
   "cell_type": "code",
   "execution_count": 39,
   "metadata": {},
   "outputs": [
    {
     "name": "stdout",
     "output_type": "stream",
     "text": [
      "\n",
      "cols:\n",
      "Index(['name', 'year_start', 'year_end', 'position', 'height', 'weight',\n",
      "       'birth_date', 'college'],\n",
      "      dtype='object')\n"
     ]
    }
   ],
   "source": [
    "# nombre de las columnas\n",
    "print(\"\\ncols:\")\n",
    "print(player_data.columns)"
   ]
  },
  {
   "cell_type": "code",
   "execution_count": 40,
   "metadata": {},
   "outputs": [
    {
     "name": "stdout",
     "output_type": "stream",
     "text": [
      "\n",
      "index:\n",
      "RangeIndex(start=0, stop=4550, step=1)\n"
     ]
    }
   ],
   "source": [
    "# indice\n",
    "print(\"\\nindex:\")\n",
    "print(player_data.index)"
   ]
  },
  {
   "cell_type": "code",
   "execution_count": 41,
   "metadata": {},
   "outputs": [
    {
     "name": "stdout",
     "output_type": "stream",
     "text": [
      "\n",
      "column 'position': \n",
      "0    F-C\n",
      "1    C-F\n",
      "2      C\n",
      "3      G\n",
      "4      F\n",
      "Name: position, dtype: object\n"
     ]
    }
   ],
   "source": [
    "# acceder a la columna posicion\n",
    "print(\"\\ncolumn 'position': \")\n",
    "print(player_data['position'].head())"
   ]
  },
  {
   "cell_type": "code",
   "execution_count": 42,
   "metadata": {},
   "outputs": [
    {
     "name": "stdout",
     "output_type": "stream",
     "text": [
      "                  name  year_start  year_end position height  weight  \\\n",
      "0       Alaa Abdelnaby        1991      1995      F-C   6-10   240.0   \n",
      "1      Zaid Abdul-Aziz        1969      1978      C-F    6-9   235.0   \n",
      "2  Kareem Abdul-Jabbar        1970      1989        C    7-2   225.0   \n",
      "3   Mahmoud Abdul-Rauf        1991      2001        G    6-1   162.0   \n",
      "4    Tariq Abdul-Wahad        1998      2003        F    6-6   223.0   \n",
      "\n",
      "              Birth                                College  \n",
      "0     June 24, 1968                        Duke University  \n",
      "1     April 7, 1946                  Iowa State University  \n",
      "2    April 16, 1947  University of California, Los Angeles  \n",
      "3     March 9, 1969             Louisiana State University  \n",
      "4  November 3, 1974              San Jose State University  \n"
     ]
    }
   ],
   "source": [
    "# cambiar nombre de una o varias columnas\n",
    "player_data = player_data.rename(columns={\"birth_date\": \"Birth\", \"college\": \"College\"})\n",
    "print(player_data.head())"
   ]
  },
  {
   "cell_type": "code",
   "execution_count": 43,
   "metadata": {},
   "outputs": [
    {
     "name": "stdout",
     "output_type": "stream",
     "text": [
      "                     year_start  year_end position height  weight  \\\n",
      "name                                                                \n",
      "Alaa Abdelnaby             1991      1995      F-C   6-10   240.0   \n",
      "Zaid Abdul-Aziz            1969      1978      C-F    6-9   235.0   \n",
      "Kareem Abdul-Jabbar        1970      1989        C    7-2   225.0   \n",
      "Mahmoud Abdul-Rauf         1991      2001        G    6-1   162.0   \n",
      "Tariq Abdul-Wahad          1998      2003        F    6-6   223.0   \n",
      "\n",
      "                                Birth                                College  \n",
      "name                                                                          \n",
      "Alaa Abdelnaby          June 24, 1968                        Duke University  \n",
      "Zaid Abdul-Aziz         April 7, 1946                  Iowa State University  \n",
      "Kareem Abdul-Jabbar    April 16, 1947  University of California, Los Angeles  \n",
      "Mahmoud Abdul-Rauf      March 9, 1969             Louisiana State University  \n",
      "Tariq Abdul-Wahad    November 3, 1974              San Jose State University  \n"
     ]
    }
   ],
   "source": [
    "# fijar columna especifica como indice\n",
    "player_data = player_data.set_index([\"name\"])\n",
    "print(player_data.head())"
   ]
  },
  {
   "cell_type": "code",
   "execution_count": 44,
   "metadata": {},
   "outputs": [
    {
     "name": "stdout",
     "output_type": "stream",
     "text": [
      "               year_start  year_end position height  weight            Birth  \\\n",
      "name                                                                           \n",
      "Penny Early          1969      1969        G    5-3   114.0     May 30, 1943   \n",
      "Spud Webb            1986      1998        G    5-6   133.0    July 13, 1963   \n",
      "Earl Boykins         1999      2012        G    5-5   135.0     June 2, 1976   \n",
      "Muggsy Bogues        1988      2001        G    5-3   136.0  January 9, 1965   \n",
      "Chet Aubuchon        1947      1947        G   5-10   137.0     May 18, 1916   \n",
      "\n",
      "                                       College  \n",
      "name                                            \n",
      "Penny Early                                NaN  \n",
      "Spud Webb      North Carolina State University  \n",
      "Earl Boykins       Eastern Michigan University  \n",
      "Muggsy Bogues           Wake Forest University  \n",
      "Chet Aubuchon        Michigan State University  \n"
     ]
    }
   ],
   "source": [
    "# ordenar dataframe por columna especifica\n",
    "player_data = player_data.sort_values(\"weight\")\n",
    "print(player_data.head())"
   ]
  },
  {
   "cell_type": "code",
   "execution_count": 45,
   "metadata": {},
   "outputs": [
    {
     "name": "stdout",
     "output_type": "stream",
     "text": [
      "         year_start     year_end position height       weight  \\\n",
      "count   4550.000000  4550.000000     4549   4549  4544.000000   \n",
      "unique          NaN          NaN        7     28          NaN   \n",
      "top             NaN          NaN        G    6-7          NaN   \n",
      "freq            NaN          NaN     1574    473          NaN   \n",
      "mean    1985.076264  1989.272527      NaN    NaN   208.908011   \n",
      "std       20.974188    21.874761      NaN    NaN    26.268662   \n",
      "min     1947.000000  1947.000000      NaN    NaN   114.000000   \n",
      "25%     1969.000000  1973.000000      NaN    NaN   190.000000   \n",
      "50%     1986.000000  1992.000000      NaN    NaN   210.000000   \n",
      "75%     2003.000000  2009.000000      NaN    NaN   225.000000   \n",
      "max     2018.000000  2018.000000      NaN    NaN   360.000000   \n",
      "\n",
      "                    Birth                 College  \n",
      "count                4519                    4248  \n",
      "unique               4161                     473  \n",
      "top     February 23, 1945  University of Kentucky  \n",
      "freq                    3                      99  \n",
      "mean                  NaN                     NaN  \n",
      "std                   NaN                     NaN  \n",
      "min                   NaN                     NaN  \n",
      "25%                   NaN                     NaN  \n",
      "50%                   NaN                     NaN  \n",
      "75%                   NaN                     NaN  \n",
      "max                   NaN                     NaN  \n"
     ]
    }
   ],
   "source": [
    "# resumen de la información \n",
    "print(player_data.describe(include='all')) # player_data.describe()"
   ]
  },
  {
   "cell_type": "markdown",
   "metadata": {},
   "source": [
    "### Operando sobre Dataframes\n",
    "\n",
    "Cuando se trabaja con un conjunto de datos, se crea una dinámica de preguntas y respuestas, en donde a medida que necesito información, se va accediendo al dataframe. En algunas ocaciones es directo, basta un simple módulo, aunque en otras será necesaria realizar operaciones un poco más complejas. \n",
    "\n",
    "Por ejemplo, del conjunto de datos en estudio, se esta interesado en responder las siguientes preguntas:\n"
   ]
  },
  {
   "cell_type": "markdown",
   "metadata": {},
   "source": [
    "**a) Determine si el dataframe tiene valores nulos**"
   ]
  },
  {
   "cell_type": "code",
   "execution_count": 46,
   "metadata": {},
   "outputs": [
    {
     "name": "stdout",
     "output_type": "stream",
     "text": [
      "name\n",
      "Penny Early        False\n",
      "Spud Webb           True\n",
      "Earl Boykins        True\n",
      "Muggsy Bogues       True\n",
      "Chet Aubuchon       True\n",
      "Greg Grant          True\n",
      "Angelo Musi         True\n",
      "Ernie Calverley     True\n",
      "Tyler Ulis          True\n",
      "Lionel Malamed      True\n",
      "dtype: bool\n"
     ]
    }
   ],
   "source": [
    "# ocupar comando .notnull().all(axis=1)\n",
    "print(player_data.notnull().all(axis=1).head(10))"
   ]
  },
  {
   "cell_type": "markdown",
   "metadata": {},
   "source": [
    "**b) Elimine los valores nulos del dataframe**"
   ]
  },
  {
   "cell_type": "code",
   "execution_count": 47,
   "metadata": {},
   "outputs": [
    {
     "name": "stdout",
     "output_type": "stream",
     "text": [
      "               year_start  year_end position height  weight            Birth  \\\n",
      "name                                                                           \n",
      "Spud Webb            1986      1998        G    5-6   133.0    July 13, 1963   \n",
      "Earl Boykins         1999      2012        G    5-5   135.0     June 2, 1976   \n",
      "Muggsy Bogues        1988      2001        G    5-3   136.0  January 9, 1965   \n",
      "Chet Aubuchon        1947      1947        G   5-10   137.0     May 18, 1916   \n",
      "Greg Grant           1990      1996        G    5-7   140.0  August 29, 1966   \n",
      "\n",
      "                                       College  \n",
      "name                                            \n",
      "Spud Webb      North Carolina State University  \n",
      "Earl Boykins       Eastern Michigan University  \n",
      "Muggsy Bogues           Wake Forest University  \n",
      "Chet Aubuchon        Michigan State University  \n",
      "Greg Grant            Trenton State University  \n"
     ]
    }
   ],
   "source": [
    "# ocupar masking\n",
    "mask = lambda df: df.notnull().all(axis=1)\n",
    "player_data = player_data[mask]\n",
    "print(player_data.head())"
   ]
  },
  {
   "cell_type": "markdown",
   "metadata": {},
   "source": [
    "**c) Determinar el tiempo (en años) de cada jugador en su posición**"
   ]
  },
  {
   "cell_type": "code",
   "execution_count": 48,
   "metadata": {},
   "outputs": [
    {
     "name": "stdout",
     "output_type": "stream",
     "text": [
      "               year_start  year_end position height  weight            Birth  \\\n",
      "name                                                                           \n",
      "Spud Webb            1986      1998        G    5-6   133.0    July 13, 1963   \n",
      "Earl Boykins         1999      2012        G    5-5   135.0     June 2, 1976   \n",
      "Muggsy Bogues        1988      2001        G    5-3   136.0  January 9, 1965   \n",
      "Chet Aubuchon        1947      1947        G   5-10   137.0     May 18, 1916   \n",
      "Greg Grant           1990      1996        G    5-7   140.0  August 29, 1966   \n",
      "\n",
      "                                       College  duration  \n",
      "name                                                      \n",
      "Spud Webb      North Carolina State University        12  \n",
      "Earl Boykins       Eastern Michigan University        13  \n",
      "Muggsy Bogues           Wake Forest University        13  \n",
      "Chet Aubuchon        Michigan State University         0  \n",
      "Greg Grant            Trenton State University         6  \n"
     ]
    }
   ],
   "source": [
    "player_data['duration'] = player_data['year_end'] - player_data['year_start']\n",
    "print(player_data.head())"
   ]
  },
  {
   "cell_type": "markdown",
   "metadata": {},
   "source": [
    "**d) Castear la fecha de str a objeto datetime**"
   ]
  },
  {
   "cell_type": "code",
   "execution_count": 49,
   "metadata": {},
   "outputs": [
    {
     "name": "stdout",
     "output_type": "stream",
     "text": [
      "               year_start  year_end position height  weight            Birth  \\\n",
      "name                                                                           \n",
      "Spud Webb            1986      1998        G    5-6   133.0    July 13, 1963   \n",
      "Earl Boykins         1999      2012        G    5-5   135.0     June 2, 1976   \n",
      "Muggsy Bogues        1988      2001        G    5-3   136.0  January 9, 1965   \n",
      "Chet Aubuchon        1947      1947        G   5-10   137.0     May 18, 1916   \n",
      "Greg Grant           1990      1996        G    5-7   140.0  August 29, 1966   \n",
      "\n",
      "                                       College  duration birth_date_dt  \n",
      "name                                                                    \n",
      "Spud Webb      North Carolina State University        12    1963-07-13  \n",
      "Earl Boykins       Eastern Michigan University        13    1976-06-02  \n",
      "Muggsy Bogues           Wake Forest University        13    1965-01-09  \n",
      "Chet Aubuchon        Michigan State University         0    1916-05-18  \n",
      "Greg Grant            Trenton State University         6    1966-08-29  \n"
     ]
    }
   ],
   "source": [
    "player_data['birth_date_dt'] = pd.to_datetime(player_data['Birth'], format=\"%B %d, %Y\")\n",
    "print(player_data.head())"
   ]
  },
  {
   "cell_type": "markdown",
   "metadata": {},
   "source": [
    "**e) Determinar todas las posiciones**"
   ]
  },
  {
   "cell_type": "code",
   "execution_count": 50,
   "metadata": {},
   "outputs": [
    {
     "name": "stdout",
     "output_type": "stream",
     "text": [
      "['G' 'G-F' 'F-G' 'F' 'F-C' 'C-F' 'C']\n"
     ]
    }
   ],
   "source": [
    "positions = player_data['position'].unique()\n",
    "print(positions)"
   ]
  },
  {
   "cell_type": "markdown",
   "metadata": {},
   "source": [
    "**f) Iterar sobre cada posición y encontrar el mayor valor asociado a la columna `weight`**"
   ]
  },
  {
   "cell_type": "code",
   "execution_count": 51,
   "metadata": {},
   "outputs": [
    {
     "name": "stdout",
     "output_type": "stream",
     "text": [
      "{'G': 235.0, 'G-F': 240.0, 'F-G': 245.0, 'F': 284.0, 'F-C': 290.0, 'C-F': 280.0, 'C': 360.0}\n"
     ]
    }
   ],
   "source": [
    "# Iterar sobre cada posición y encontrar el mayor valor.\n",
    "nba_position_duration = dict()\n",
    "\n",
    "# iterar\n",
    "for position in positions:\n",
    "    \n",
    "    # filtrar \n",
    "    df_aux = player_data.loc[lambda x: x['position'] == position]\n",
    "    \n",
    "    # encontrar maximo de la columna objetivo\n",
    "    max_duration = df_aux['weight'].max()\n",
    "    \n",
    "    # guardar en pd.Series\n",
    "    nba_position_duration[position] = max_duration\n",
    "    \n",
    "# retornar serie\n",
    "print(nba_position_duration)"
   ]
  },
  {
   "cell_type": "markdown",
   "metadata": {},
   "source": [
    "## Referencia\n",
    "\n",
    "1. [Python Pandas Tutorial: A Complete Introduction for Beginners](https://www.learndatasci.com/tutorials/python-pandas-tutorial-complete-introduction-for-beginners/)\n",
    "2. [General functions](https://pandas.pydata.org/pandas-docs/stable/reference/general_functions.html)"
   ]
  }
 ],
 "metadata": {
  "kernelspec": {
   "display_name": "Python 3 (ipykernel)",
   "language": "python",
   "name": "python3"
  },
  "language_info": {
   "codemirror_mode": {
    "name": "ipython",
    "version": 3
   },
   "file_extension": ".py",
   "mimetype": "text/x-python",
   "name": "python",
   "nbconvert_exporter": "python",
   "pygments_lexer": "ipython3",
   "version": "3.8.9"
  }
 },
 "nbformat": 4,
 "nbformat_minor": 4
}
