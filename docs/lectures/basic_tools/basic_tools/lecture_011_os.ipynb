{
 "cells": [
  {
   "cell_type": "markdown",
   "id": "66d620c7",
   "metadata": {},
   "source": [
    "# Linux\n",
    "\n",
    "<img src=\"https://www.redeszone.net/app/uploads-redeszone.net/2017/11/instalar-linux-cosas.jpg\" alt=\"\" align=\"center\" width=\"300\" height=\"200\" />\n",
    "\n",
    "## Introducción\n",
    "[GNU/Linux](https://en.wikipedia.org/wiki/Linux) es la denominación técnica y generalizada que reciben una serie de sistemas operativos de tipo Unix, que también suelen ser de código abierto, multiplataforma, multiusuario y multitarea.Estos sistemas operativos están formados mediante la combinación de varios proyectos, entre los cuales destaca el entorno GNU, encabezado por el programador estadounidense Richard Stallman junto a la Free Software Foundation, una fundación cuyo propósito es difundir el software libre (Open source), así como también el núcleo de sistema operativo conocido como **«Linux»**, encabezado por el programador finlandés [Linus Torvalds](https://en.wikipedia.org/wiki/Linus_Torvalds).\n",
    "\n",
    "## Comandos Básicos (por línea de comando)\n",
    "\n",
    "\n",
    "### comando pwd\n",
    "Usa el comando pwd para encontrar la ruta del directorio (carpeta) de trabajo actual en el que te encuentras. El comando devolverá una ruta absoluta (completa), que es básicamente una ruta de todos los directorios que comienzan con una barra diagonal (/) Un ejemplo de una ruta absoluta es `/home/nombredeusuario`.\n"
   ]
  },
  {
   "cell_type": "code",
   "execution_count": 1,
   "id": "66f4ecc9",
   "metadata": {},
   "outputs": [
    {
     "name": "stdout",
     "output_type": "stream",
     "text": [
      "/Users/franciscoalfaro/PycharmProjects/MAT281_2022/docs/lectures/basic_tools/basic_tools\r\n"
     ]
    }
   ],
   "source": [
    "!pwd"
   ]
  },
  {
   "cell_type": "markdown",
   "id": "68a09fb9",
   "metadata": {},
   "source": [
    "### comando cd\n",
    "Para navegar por los archivos y directorios de Linux, usa el comando cd. Te pedirá la ruta completa o el nombre del directorio, dependiendo del directorio de trabajo actual en el que te encuentres.\n",
    "\n",
    "Supongamos que estás en `/home/nombredeusuario/Documentos` y deseas ir a Fotos, un subdirectorio de Documentos. Para hacerlo, simplemente escribe el siguiente comando: cd Fotos.\n",
    "\n",
    "Otro escenario es si deseas ir a un directorio completamente nuevo, por ejemplo, `/home/nombredeusuario/Peliculas`. En este caso, debes escribir cd seguido de la ruta absoluta del directorio: `cd /home/nombredeusuario/Peliculas`.\n",
    "\n",
    "Hay algunos atajos para ayudarte a navegar rápidamente:\n",
    "\n",
    "* **cd ..** (con dos puntos) para ir un directorio hacia arriba\n",
    "* **cd** para ir directamente a la carpeta de inicio\n",
    "\n",
    "Como nota al margen, el shell de Linux distingue entre mayúsculas y minúsculas. Por lo tanto, debes escribir el nombre del directorio de forma exacta."
   ]
  },
  {
   "cell_type": "code",
   "execution_count": 2,
   "id": "121cd251",
   "metadata": {},
   "outputs": [
    {
     "name": "stdout",
     "output_type": "stream",
     "text": [
      "zsh:cd:1: no such file or directory: /home/fralfaro/PycharmProjects\r\n"
     ]
    }
   ],
   "source": [
    "!cd /home/fralfaro/PycharmProjects && pwd"
   ]
  },
  {
   "cell_type": "code",
   "execution_count": 3,
   "id": "3a6d9355",
   "metadata": {},
   "outputs": [
    {
     "name": "stdout",
     "output_type": "stream",
     "text": [
      "/Users/franciscoalfaro/PycharmProjects/MAT281_2022/docs/lectures/basic_tools\r\n"
     ]
    }
   ],
   "source": [
    "!cd .. && pwd"
   ]
  },
  {
   "cell_type": "code",
   "execution_count": 4,
   "id": "1cf3d91e",
   "metadata": {},
   "outputs": [
    {
     "name": "stdout",
     "output_type": "stream",
     "text": [
      "/Users/franciscoalfaro\r\n"
     ]
    }
   ],
   "source": [
    "!cd && pwd"
   ]
  },
  {
   "cell_type": "markdown",
   "id": "07072b3f",
   "metadata": {},
   "source": [
    "### comando ls\n",
    "El comando ls se usa para ver el contenido de un directorio. Por defecto, este comando mostrará el contenido de tu directorio de trabajo actual.\n",
    "\n",
    "Si deseas ver el contenido de otros directorios, escribe ls y luego la ruta del directorio. Por ejemplo, ingresa `ls /home/nombredeusuario/Documentos` para ver el contenido de Documentos.\n",
    "\n",
    "Hay variaciones que puedes usar con el comando ls:\n",
    "\n",
    "* **ls -R** también listará todos los archivos en los subdirectorios\n",
    "* **ls -a** mostrará los archivos ocultos\n",
    "* **ls -al** listará los archivos y directorios con información detallada como los permisos, el tamaño, el propietario, etc."
   ]
  },
  {
   "cell_type": "code",
   "execution_count": 5,
   "id": "6544e8ef",
   "metadata": {},
   "outputs": [
    {
     "name": "stdout",
     "output_type": "stream",
     "text": [
      "archivo.txt                       lecture_013_ide.ipynb\r\n",
      "\u001b[1m\u001b[36mimages\u001b[m\u001b[m                            lecture_014_jupyter.ipynb\r\n",
      "lecture_000_configuraciones.ipynb lecture_015_git.ipynb\r\n",
      "lecture_000_intro.ipynb           lecture_016_colab.ipynb\r\n",
      "lecture_011_os.ipynb              \u001b[1m\u001b[36mlinux\u001b[m\u001b[m\r\n",
      "lecture_012_python.ipynb          modulo_01.py\r\n"
     ]
    }
   ],
   "source": [
    "!ls"
   ]
  },
  {
   "cell_type": "code",
   "execution_count": 6,
   "id": "d4d28d35",
   "metadata": {},
   "outputs": [
    {
     "name": "stdout",
     "output_type": "stream",
     "text": [
      "archivo.txt                       lecture_013_ide.ipynb\r\n",
      "\u001b[1m\u001b[36mimages\u001b[m\u001b[m                            lecture_014_jupyter.ipynb\r\n",
      "lecture_000_configuraciones.ipynb lecture_015_git.ipynb\r\n",
      "lecture_000_intro.ipynb           lecture_016_colab.ipynb\r\n",
      "lecture_011_os.ipynb              \u001b[1m\u001b[36mlinux\u001b[m\u001b[m\r\n",
      "lecture_012_python.ipynb          modulo_01.py\r\n",
      "\r\n",
      "./images:\r\n",
      "Napoleon.png            matplotlib.png          pca_01.png\r\n",
      "arrow.png               matplotlib_anatomy.webp pca_02.png\r\n",
      "branches.png            mlflow.png              pca_03.png\r\n",
      "cheatsheet.png          nba_logo.jpg            pca_04.png\r\n",
      "code-01.jpg             numpy.jpeg              pep8.png\r\n",
      "colab.png               optimizationw.jpg       performance.png\r\n",
      "flujo.jpg               outlier.png             preatentivo1.png\r\n",
      "git-github.jpg          over.png                preatentivo2.png\r\n",
      "git-tower.png           over2.png               pyenv-pyramid.webp\r\n",
      "gitignore.jpg           overfitting_1.png       r2.png\r\n",
      "logo_python.png         p1.png                  sqlite.jpg\r\n",
      "logo_terremoto.png      p2.png                  table.jpg\r\n",
      "lr.png                  p3.png                  trees.png\r\n",
      "lr.webp                 p4.png\r\n",
      "male_height.jpg         pca.jpg\r\n",
      "\r\n",
      "./linux:\r\n",
      "none\r\n"
     ]
    }
   ],
   "source": [
    "!ls -R"
   ]
  },
  {
   "cell_type": "code",
   "execution_count": 7,
   "id": "442f74c7",
   "metadata": {},
   "outputs": [
    {
     "name": "stdout",
     "output_type": "stream",
     "text": [
      "\u001b[1m\u001b[36m.\u001b[m\u001b[m                                 lecture_011_os.ipynb\r\n",
      "\u001b[1m\u001b[36m..\u001b[m\u001b[m                                lecture_012_python.ipynb\r\n",
      ".DS_Store                         lecture_013_ide.ipynb\r\n",
      "\u001b[1m\u001b[36m.ipynb_checkpoints\u001b[m\u001b[m                lecture_014_jupyter.ipynb\r\n",
      "archivo.txt                       lecture_015_git.ipynb\r\n",
      "\u001b[1m\u001b[36mimages\u001b[m\u001b[m                            lecture_016_colab.ipynb\r\n",
      "lecture_000_configuraciones.ipynb \u001b[1m\u001b[36mlinux\u001b[m\u001b[m\r\n",
      "lecture_000_intro.ipynb           modulo_01.py\r\n"
     ]
    }
   ],
   "source": [
    "!ls -a"
   ]
  },
  {
   "cell_type": "code",
   "execution_count": 8,
   "id": "5552bf5b",
   "metadata": {},
   "outputs": [
    {
     "name": "stdout",
     "output_type": "stream",
     "text": [
      "total 448\r\n",
      "drwxr-xr-x  16 franciscoalfaro  staff    512 Jun 28 21:10 \u001b[1m\u001b[36m.\u001b[m\u001b[m\r\n",
      "drwxr-xr-x   5 franciscoalfaro  staff    160 Jun 26 18:00 \u001b[1m\u001b[36m..\u001b[m\u001b[m\r\n",
      "-rw-r--r--@  1 franciscoalfaro  staff   6148 Jun 26 18:00 .DS_Store\r\n",
      "drwxr-xr-x  10 franciscoalfaro  staff    320 Jun 28 21:10 \u001b[1m\u001b[36m.ipynb_checkpoints\u001b[m\u001b[m\r\n",
      "-rw-r--r--   1 franciscoalfaro  staff     13 Jun 26 12:35 archivo.txt\r\n",
      "drwxr-xr-x  45 franciscoalfaro  staff   1440 Jun 26 12:35 \u001b[1m\u001b[36mimages\u001b[m\u001b[m\r\n",
      "-rw-r--r--   1 franciscoalfaro  staff   4345 Jun 26 12:35 lecture_000_configuraciones.ipynb\r\n",
      "-rw-r--r--   1 franciscoalfaro  staff  14170 Jun 26 12:35 lecture_000_intro.ipynb\r\n",
      "-rw-r--r--   1 franciscoalfaro  staff  10836 Jun 28 21:10 lecture_011_os.ipynb\r\n",
      "-rw-r--r--   1 franciscoalfaro  staff  32366 Jun 27 23:26 lecture_012_python.ipynb\r\n",
      "-rw-r--r--   1 franciscoalfaro  staff   7728 Jun 27 13:05 lecture_013_ide.ipynb\r\n",
      "-rw-r--r--   1 franciscoalfaro  staff  17765 Jun 27 13:16 lecture_014_jupyter.ipynb\r\n",
      "-rw-r--r--   1 franciscoalfaro  staff  10721 Jun 27 13:03 lecture_015_git.ipynb\r\n",
      "-rw-r--r--   1 franciscoalfaro  staff  98637 Jun 27 13:16 lecture_016_colab.ipynb\r\n",
      "drwxr-xr-x   3 franciscoalfaro  staff     96 Jun 27 19:34 \u001b[1m\u001b[36mlinux\u001b[m\u001b[m\r\n",
      "-rw-r--r--   1 franciscoalfaro  staff     34 Jun 27 19:34 modulo_01.py\r\n"
     ]
    }
   ],
   "source": [
    "!ls -al"
   ]
  },
  {
   "cell_type": "markdown",
   "id": "a0ba54ee",
   "metadata": {},
   "source": [
    "### comando cat\n",
    "Se utiliza para listar el contenido de un archivo en la salida estándar (sdout). Para ejecutar este comando, escribe cat seguido del nombre del archivo y su extensión. Por ejemplo: cat archivo.txt.\n",
    "\n",
    "Aquí hay otras formas de usar el comando cat:\n",
    "\n",
    "* `cat > nombredearchivo` crea un nuevo archivo.\n",
    "* `cat nombredearchivo1 nombredearchivo2>nombredearchivo3 `une dos archivos (1 y 2) y almacena la salida de ellos en un nuevo archivo (3)\n",
    "* convertir un archivo a mayúsculas o minúsculas, `cat nombredearchivo | tr a-z A-Z> salida.txt`"
   ]
  },
  {
   "cell_type": "code",
   "execution_count": 9,
   "id": "b95bca7e",
   "metadata": {},
   "outputs": [
    {
     "name": "stdout",
     "output_type": "stream",
     "text": [
      "Hola Mundo! \r\n"
     ]
    }
   ],
   "source": [
    "!cat archivo.txt"
   ]
  },
  {
   "cell_type": "markdown",
   "id": "fe5d4647",
   "metadata": {},
   "source": [
    "### comando cp\n",
    "Usa el comando cp para copiar archivos del directorio actual a un directorio diferente. Por ejemplo:"
   ]
  },
  {
   "cell_type": "code",
   "execution_count": 10,
   "id": "a92f9ff2",
   "metadata": {},
   "outputs": [],
   "source": [
    "!cp archivo.txt archivo_02.txt"
   ]
  },
  {
   "cell_type": "markdown",
   "id": "90fe0192",
   "metadata": {},
   "source": [
    "### comando mv\n",
    "El uso principal del comando mv es mover archivos, aunque también se puede usar para cambiar el nombre de los archivos.\n",
    "\n",
    "Los argumentos en mv son similares al comando cp. Debes escribir mv, el nombre del archivo y el directorio destino. "
   ]
  },
  {
   "cell_type": "code",
   "execution_count": 11,
   "id": "0a4cde46",
   "metadata": {},
   "outputs": [],
   "source": [
    "!mv archivo_02.txt linux"
   ]
  },
  {
   "cell_type": "markdown",
   "id": "662526ea",
   "metadata": {},
   "source": [
    "Para cambiar el nombre de los archivos, el comando de Linux es `mv nombreviejo.ext nombrenuevo.ext`"
   ]
  },
  {
   "cell_type": "markdown",
   "id": "603e8dfd",
   "metadata": {},
   "source": [
    "### comando mkdir\n",
    "Usa el comando mkdir para crear un nuevo directorio: si escribes mkdir Musica, creará un directorio llamado Musica.\n",
    "\n",
    "También hay comandos adicionales de mkdir:\n",
    "\n",
    "* Para generar un nuevo directorio dentro de otro directorio, usa este comando básico de Linux `mkdir Musica/Nuevoarchivo`\n",
    "* Usa la opción p (padres) para crear un directorio entre dos directorios existentes. Por ejemplo, `mkdir -p Musica/2020/Nuevoarchivo` creará el nuevo archivo «2020»."
   ]
  },
  {
   "cell_type": "code",
   "execution_count": 12,
   "id": "511be440",
   "metadata": {},
   "outputs": [],
   "source": [
    "!mkdir Carpeta"
   ]
  },
  {
   "cell_type": "code",
   "execution_count": 13,
   "id": "0df6d43a",
   "metadata": {},
   "outputs": [],
   "source": [
    "!mkdir Carpeta/nueva_carpeta"
   ]
  },
  {
   "cell_type": "markdown",
   "id": "c8e74ee9",
   "metadata": {},
   "source": [
    "### comando touch\n",
    "\n",
    "El comando touch te permite crear un nuevo archivo en blanco a través de la línea de comando de Linux. Como ejemplo, ingresa `touch /home/nombredeusuario/Documentos/Web.html` para crear un archivo HTML titulado Web en el directorio Documentos."
   ]
  },
  {
   "cell_type": "code",
   "execution_count": 14,
   "id": "0810c1bf",
   "metadata": {},
   "outputs": [],
   "source": [
    "!touch Web.html"
   ]
  },
  {
   "cell_type": "code",
   "execution_count": 15,
   "id": "c769c02c",
   "metadata": {},
   "outputs": [
    {
     "name": "stdout",
     "output_type": "stream",
     "text": [
      "\u001b[1m\u001b[36mCarpeta\u001b[m\u001b[m                           lecture_012_python.ipynb\r\n",
      "Web.html                          lecture_013_ide.ipynb\r\n",
      "archivo.txt                       lecture_014_jupyter.ipynb\r\n",
      "\u001b[1m\u001b[36mimages\u001b[m\u001b[m                            lecture_015_git.ipynb\r\n",
      "lecture_000_configuraciones.ipynb lecture_016_colab.ipynb\r\n",
      "lecture_000_intro.ipynb           \u001b[1m\u001b[36mlinux\u001b[m\u001b[m\r\n",
      "lecture_011_os.ipynb              modulo_01.py\r\n"
     ]
    }
   ],
   "source": [
    "!ls"
   ]
  },
  {
   "cell_type": "markdown",
   "id": "0327f56b",
   "metadata": {},
   "source": [
    "### comando rmdir\n",
    "Si necesitas eliminar un directorio, usa el comando rmdir. Sin embargo, rmdir solo te permite eliminar directorios vacíos."
   ]
  },
  {
   "cell_type": "code",
   "execution_count": 16,
   "id": "a784822e",
   "metadata": {},
   "outputs": [
    {
     "name": "stdout",
     "output_type": "stream",
     "text": [
      "rmdir: Carpeta: Directory not empty\r\n"
     ]
    }
   ],
   "source": [
    "!rmdir Carpeta"
   ]
  },
  {
   "cell_type": "code",
   "execution_count": 17,
   "id": "c920e46f",
   "metadata": {},
   "outputs": [],
   "source": [
    "!rmdir Carpeta/nueva_carpeta"
   ]
  },
  {
   "cell_type": "markdown",
   "id": "4976de06",
   "metadata": {},
   "source": [
    "### comando rm\n",
    "El comando rm se usa para eliminar directorios y el contenido dentro de ellos. Si solo deseas eliminar el directorio, como alternativa a rmdir, usa rm -r.\n",
    "\n",
    "\n",
    "> **Nota**: Ten mucho cuidado con este comando y verifica en qué directorio te encuentras. Este comando elimina todo y no se puede deshacer."
   ]
  },
  {
   "cell_type": "code",
   "execution_count": 18,
   "id": "489e43db",
   "metadata": {},
   "outputs": [],
   "source": [
    "!rm -r Carpeta "
   ]
  },
  {
   "cell_type": "code",
   "execution_count": 19,
   "id": "000ba0df",
   "metadata": {
    "lines_to_next_cell": 2
   },
   "outputs": [],
   "source": [
    "!rm Web.html linux/archivo_02.txt"
   ]
  },
  {
   "cell_type": "markdown",
   "id": "d77eac4b",
   "metadata": {},
   "source": [
    "## Referencias\n",
    "\n",
    "1. [The Ultimate Linux Command Line Guide - Full Bash Tutorial](https://www.freecodecamp.org/news/linux-command-line-bash-tutorial/)\n",
    "2. [35 comandos básicos de Linux que todo usuario debe saber](https://www.hostinger.es/tutoriales/linux-comandos)"
   ]
  }
 ],
 "metadata": {
  "jupytext": {
   "cell_metadata_filter": "-all",
   "main_language": "python",
   "notebook_metadata_filter": "-all"
  },
  "kernelspec": {
   "display_name": "Python 3 (ipykernel)",
   "language": "python",
   "name": "python3"
  },
  "language_info": {
   "codemirror_mode": {
    "name": "ipython",
    "version": 3
   },
   "file_extension": ".py",
   "mimetype": "text/x-python",
   "name": "python",
   "nbconvert_exporter": "python",
   "pygments_lexer": "ipython3",
   "version": "3.8.9"
  }
 },
 "nbformat": 4,
 "nbformat_minor": 5
}
