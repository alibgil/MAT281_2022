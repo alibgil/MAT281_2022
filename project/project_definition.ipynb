{
 "cells": [
  {
   "cell_type": "markdown",
   "metadata": {},
   "source": [
    "# Proyecto Final"
   ]
  },
  {
   "cell_type": "markdown",
   "metadata": {},
   "source": [
    "La finalidad de este proyecto es enfrentar a los estudiantes a problemas de Machine Learning con todas las etapas (típicas) que eso implica, basándose en cada uno de los módulos aprendidos a lo largo del curso, dando pie a la investigación y a la solución de problemas operacionales del mundo real.\n",
    "\n",
    "Información importante del proyecto:\n",
    "\n",
    "* **Fecha**: 01 de diciembre del 2022 a las 08:30 am.\n",
    "* Grupos de 5 alumnos (Definidos).\n",
    "    * **Grupo 01**: Mattia Solla, Barinia Muñoz, Jean Nanjari, Gabriel Vega, Yosselinne Parra, Jesús Martínez.\n",
    "    * **Grupo 02**: Max Rosado, Nicole Gómez, Nicolás Valdebenito, Diego Pinochet, Vicente torrealba, Juan Vásquez.\n",
    "* La presentación consta de 20-30 minutos. Luego, hay un espacio de preguntas de 10 minutos.\n",
    "* Utilizar diapositivas con [BEAMER](https://www.dropbox.com/s/ol38qwzacgwzud7/Beamer.rar). Se deja el siguiente el siguiente [tutorial](https://www.youtube.com/watch?v=NiDy4X6YvkM&ab_channel=ManuelMerino) a modo de ejemplo.\n",
    "* **Idealmente** deben presentar todos los miembros del equipo.\n",
    "\n",
    "\n",
    "El comite de evaluación estará conformado por:\n",
    "* [Francisco Alfaro Medina](https://www.linkedin.com/in/faam/)\n",
    "* [Sebastian Torres](https://www.linkedin.com/in/sebasti%C3%A1n-torres-5827b21b/) \n",
    "* [Alonso Ogueda Oliva](https://www.linkedin.com/in/aoguedaoliva/) \n",
    "* [Alberto Rubio Suazo](https://www.linkedin.com/in/arubiosu/)\n",
    "* [Eric Zepeda](https://www.linkedin.com/in/eric-zepeda-3b6b9897/)"
   ]
  },
  {
   "cell_type": "markdown",
   "metadata": {},
   "source": [
    "## Rúbrica\n",
    "\n",
    "\n",
    "\n",
    "1. Definición del problema (5 puntos)\n",
    "2. Estadística descriptiva (5 puntos)\n",
    "3. Visualización descriptiva (10 puntos)\n",
    "4. Preprocesamiento (20 puntos\n",
    "5. Selección de modelo (35 puntos)\n",
    "    1. Por lo menos debe comparar cuatro modelos\n",
    "    2. Al menos tres de estos modelos tienen que tener hiperparámetros.\n",
    "    3. Realizar optimización de hiperparámetros.\n",
    "6. Métricas y análisis de resultados (10 puntos)\n",
    "7. Visualizaciones del modelo (10 puntos)\n",
    "8. Conclusiones (5 puntos)\n",
    "\n",
    "> **Observación**: Tendrá una mejor puntación si también incorpora modelos de redes neuronales. Se deja un [tutorial de tensorflow](https://www.tensorflow.org/tutorials?hl=es-419) a modo de ejemplo."
   ]
  },
  {
   "cell_type": "markdown",
   "metadata": {},
   "source": [
    "## Proyectos\n",
    "\n",
    "\n",
    "### Grupo 01 \n",
    "\n",
    "* [Goodreads Books](https://www.kaggle.com/jealousleopard/goodreadsbooks) — Detailed information about books through numerous columns for building a book recommender engine. This is my personal favourite for getting a hang out of actually attempting the recommendation task.\n",
    "\n",
    "### Grupo 02\n",
    "* [E-Commerse Sales](https://www.kaggle.com/carrie1/ecommerce-data) — For predicting sales/transaction for a store. The classic time series forecasting job.\n"
   ]
  }
 ],
 "metadata": {
  "kernelspec": {
   "display_name": "Python 3",
   "language": "python",
   "name": "python3"
  },
  "language_info": {
   "codemirror_mode": {
    "name": "ipython",
    "version": 3
   },
   "file_extension": ".py",
   "mimetype": "text/x-python",
   "name": "python",
   "nbconvert_exporter": "python",
   "pygments_lexer": "ipython3",
   "version": "3.8.10"
  }
 },
 "nbformat": 4,
 "nbformat_minor": 4
}
